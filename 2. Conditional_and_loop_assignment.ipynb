{
 "cells": [
  {
   "cell_type": "markdown",
   "metadata": {
    "id": "wNRNTbrsc53d"
   },
   "source": [
    "# If - elif - else statement"
   ]
  },
  {
   "cell_type": "code",
   "execution_count": 5,
   "metadata": {
    "colab": {
     "base_uri": "https://localhost:8080/"
    },
    "id": "MiPfTnBycxNa",
    "outputId": "66d2ea82-1b1d-4f4a-ccff-18d64e72df87"
   },
   "outputs": [
    {
     "name": "stdout",
     "output_type": "stream",
     "text": [
      "Enter a number: 3\n",
      "Three\n"
     ]
    }
   ],
   "source": [
    "#W. A P. which takes one number from 0 to 9 from the user and prints it in the word. And if the word is not from 0 to 9 then\n",
    "#it should print that number is outside of the range and program should exit.\n",
    "# For exapmple:- \n",
    "# input = 1\n",
    "# output = one\n",
    "number_mapping = {0: 'Zero', 1: 'one', 2: 'Two', 3: 'Three', 4: 'Four', 5: 'Five', 6: 'Six', 7: 'Seven', 8: 'Eight', 9: 'Nine'}\n",
    "guess = int(input('Enter a number: '))\n",
    "if guess >= 0 and guess <= 9:\n",
    "  print(number_mapping[guess])\n",
    "else:\n",
    "  print(\"Number out of range!!! \\nPlease enter number from 0 to 9.\")"
   ]
  },
  {
   "cell_type": "code",
   "execution_count": 10,
   "metadata": {
    "colab": {
     "base_uri": "https://localhost:8080/",
     "height": 333
    },
    "id": "vEMNOv9zdA39",
    "outputId": "2c344976-6290-479f-d3c1-10aa179d9d33"
   },
   "outputs": [
    {
     "name": "stdout",
     "output_type": "stream",
     "text": [
      "Enter first number to perform arithmetic operation: 2\n",
      "Enter second number to perform arithmetic operation: 3\n",
      "Please select any one operation from below:-\n",
      "   * To add enter 1\n",
      "   * to subtract enter 2\n",
      "   * To multiply enter 3\n",
      "   * To divide enter 4\n",
      "   * To divide and find quotient enter 5\n",
      "   * To divide and find remainder enter 6\n",
      "   * To divide and find num1 to the power of num2 enter 7\n",
      "   * To Come out of the program enter 8\n",
      "6\n",
      "Your answer is 2\n"
     ]
    }
   ],
   "source": [
    "#W. A P. to implement calculator but the operation to be done and two numbers will be taken as input from user:-\n",
    "#Operation console should show below:-\n",
    "#     Please select any one operation from below:-\n",
    "#         * To add enter 1\n",
    "#         * to subtract enter 2\n",
    "#         * To multiply enter 3\n",
    "#         * To divide enter 4\n",
    "#         * To divide and find quotient enter 5\n",
    "#         * To divide and find remainder enter 6\n",
    "#         * To divide and find num1 to the power of num2 enter 7\n",
    "#         * To Come out of the program enter 8\n",
    "\n",
    "a = eval(input('Enter first number to perform arithmetic operation: '))\n",
    "b = eval(input('Enter second number to perform arithmetic operation: '))\n",
    "\n",
    "print('Please select any one operation from below:-\\n   * To add enter 1\\n   * to subtract enter 2\\n   * To multiply enter 3\\n   * To divide enter 4\\n   * To divide and find quotient enter 5')\n",
    "print('   * To divide and find remainder enter 6\\n   * To divide and find num1 to the power of num2 enter 7\\n   * To Come out of the program enter 8')\n",
    "\n",
    "operation = int(input(''))\n",
    "lst = [1, 2, 3, 4 ,5 , 6, 7, 8]\n",
    "\n",
    "def add(a, b):\n",
    "  print('Your answer is', a + b)\n",
    "def sub(a, b):\n",
    "  print('Your answer is', a - b)\n",
    "def mul(a, b):\n",
    "  print('Your answer is', a * b)\n",
    "def div(a, b):\n",
    "  print('Your answer is', a / b)\n",
    "def quo(a, b):\n",
    "  print('Your answer is', a // b)\n",
    "def rem(a, b):\n",
    "  print('Your answer is', a % b)\n",
    "def power(a, b):\n",
    "  print('Your answer is', a ** b)\n",
    "\n",
    "if operation in lst:\n",
    "    if operation == 1:\n",
    "        add(a, b)\n",
    "    elif operation == 2:\n",
    "        sub(a, b)\n",
    "    elif operation == 3:\n",
    "        mul(a, b)\n",
    "    elif operation == 4:\n",
    "        try:\n",
    "            div(a, b)\n",
    "        except ZeroDivisionError:\n",
    "            print('Number can not be divided by 0')\n",
    "    elif operation == 5:\n",
    "        try:\n",
    "            quo(a, b)\n",
    "        except ZeroDivisionError:\n",
    "            print('Number can not be divided by 0')\n",
    "    elif operation == 6:\n",
    "        try:\n",
    "            rem(a, b)\n",
    "        except ZeroDivisionError:\n",
    "            print('Number can not be divided by 0')\n",
    "    elif operation == 7:\n",
    "        power(a, b)\n",
    "    elif operation == 8:\n",
    "        print(\"Happy day. Bye!!!\")\n",
    "        exit\n",
    "else:\n",
    "    print(\"You have entered incorrect option\\nEnter valid option!!\")\n",
    "    "
   ]
  },
  {
   "cell_type": "code",
   "execution_count": 26,
   "metadata": {
    "id": "1e2gwYLqdC1s"
   },
   "outputs": [
    {
     "name": "stdout",
     "output_type": "stream",
     "text": [
      "Enter the year: 1971\n",
      "1971 is not a leap year\n"
     ]
    }
   ],
   "source": [
    "#W A P to check whether a year entered by user is an leap year or not?\n",
    "#Check with below input:-\n",
    "    #leap year:- 2012, 1968, 2004, 1200, 1600,2400\n",
    "    #Non-lear year:- 1971, 2006, 1700,1800,1900\n",
    "    \n",
    "year = int(input('Enter the year: '))\n",
    "\n",
    "if (year % 4) == 0:\n",
    "    if (year % 100) == 0:\n",
    "        if (year % 400) == 0:\n",
    "            print(f\"{year} is a leap year\")\n",
    "        else:\n",
    "            print(f\"{year} is not a leap year\")\n",
    "    else:\n",
    "        print(f\"{year} is a leap year\")\n",
    "else:\n",
    "    print(f\"{year} is not a leap year\")\n",
    "    "
   ]
  },
  {
   "cell_type": "code",
   "execution_count": 30,
   "metadata": {
    "id": "_tpXv1EtdEre"
   },
   "outputs": [
    {
     "name": "stdout",
     "output_type": "stream",
     "text": [
      "Enter a number: 24545223\n",
      "24545223 is an Odd number.\n"
     ]
    }
   ],
   "source": [
    "#W A P which takes one number from the user and checks whether it is an even or odd number?, If it even then prints number is \n",
    "#even number else prints that number is odd number.\n",
    "num = int(input(\"Enter a number: \"))\n",
    "if num % 2 == 0:\n",
    "    print(f\"{num} is an even number.\")\n",
    "else:\n",
    "    print(f\"{num} is an Odd number.\")\n",
    "    \n"
   ]
  },
  {
   "cell_type": "code",
   "execution_count": 5,
   "metadata": {
    "id": "Q1HumymCdG6i"
   },
   "outputs": [
    {
     "name": "stdout",
     "output_type": "stream",
     "text": [
      "Enter 1st Number: 2\n",
      "Enter 2nd Number: 3\n",
      "2 is smaller than 3\n",
      "Enter 1st Number: 5\n",
      "Enter 2nd Number: 5\n",
      "num1 is equal to num2\n"
     ]
    }
   ],
   "source": [
    "#W A P which takes two numbers from the user and prints below output:-\n",
    "#     1. num1 is greater than num2 if num1 is greater than num2\n",
    "#     2. num1 is smaller than num2 if num1 is smaller than num2\n",
    "#     3. num1 is equal to num2 if num1 and num2 are equal\n",
    "\n",
    "#Note:- 1. Do this problem using if - else \n",
    "#       2. Do this using ternary operator\n",
    "\n",
    "#1. using if-else\n",
    "num1 = int(input('Enter 1st Number: '))\n",
    "num2 = int(input('Enter 2nd Number: '))\n",
    "if num1>num2:\n",
    "    print(f\"{num1} is greater than {num2}\")\n",
    "elif num1<num2:\n",
    "    print(f\"{num1} is smaller than {num2}\")\n",
    "else: \n",
    "    print(f\"{num1} is equal to {num2}\")\n",
    "\n",
    "#2. using ternary operator\n",
    "num1 = int(input('Enter 1st Number: '))\n",
    "num2 = int(input('Enter 2nd Number: '))\n",
    "print('num1 is greater than num2' if (num1 > num2) else 'num1 is smaller than num2' if (num1<num2) else 'num1 is equal to num2')\n"
   ]
  },
  {
   "cell_type": "code",
   "execution_count": 39,
   "metadata": {
    "id": "LR6TVB-DdOPf"
   },
   "outputs": [
    {
     "name": "stdout",
     "output_type": "stream",
     "text": [
      "Enter 1st Number: 1\n",
      "Enter 2nd Number: 2\n",
      "Enter 3rd Number: 3\n",
      "c is greater than a and b\n"
     ]
    }
   ],
   "source": [
    "#W A P which takes three numbers from the user and prints below output:-\n",
    "#     1. num1 is greater than num2 and num3 if num1 is greater than num2 and num3\n",
    "#     2. num2 is greater than num1 and num3 if num2 is greater than num1 and num3\n",
    "#     3. num3 is greater than num1 and num2 if num3 is greater than num1 and num2\n",
    "\n",
    "#Note:- 1. Do this problem using if - elif - else \n",
    "#       2. Do this using ternary operator\n",
    "\n",
    "#ternary operator\n",
    "a = int(input('Enter 1st Number: '))\n",
    "b = int(input('Enter 2nd Number: '))\n",
    "c = int(input('Enter 3rd Number: '))\n",
    "print('a is greater than b and c' if (a>b and a>c) else 'b is greater than a and b' if b>c else 'c is greater than a and b')\n",
    "\n",
    "# if else\n",
    "num1 = int(input('Enetr first number: '))\n",
    "num2 = int(input('Enetr second number: '))\n",
    "num3 = int(input('Enetr third number: '))\n",
    "if num1>num2 and num1>num3:\n",
    "    print('num1 is greater than num2 and num3')\n",
    "elif num2>num3:\n",
    "    print('num2 is greater than num1 and num3')\n",
    "else:\n",
    "    print('num3 is greater than num1 and num2')"
   ]
  },
  {
   "cell_type": "markdown",
   "metadata": {
    "id": "IoOLQMUGdSox"
   },
   "source": [
    "# Loops - for loop, while loop"
   ]
  },
  {
   "cell_type": "code",
   "execution_count": 12,
   "metadata": {
    "id": "9K23Uld8dQfA"
   },
   "outputs": [
    {
     "name": "stdout",
     "output_type": "stream",
     "text": [
      "55\n"
     ]
    }
   ],
   "source": [
    "#Write a Python program to find the length of the my_str using loop:-\n",
    "\n",
    "#Input:- 'Write a Python program to find the length of the my_str'\n",
    "#Output:- 55\n",
    "\n",
    "# Method 1\n",
    "# my_str = input('Enter a string: ')\n",
    "# print(len(my_str))\n",
    "\n",
    "#Method 2\n",
    "my_str = 'Write a Python program to find the length of the my_str'\n",
    "length = 0\n",
    "for i in my_str:\n",
    "    length += 1\n",
    "print(length)"
   ]
  },
  {
   "cell_type": "code",
   "execution_count": 47,
   "metadata": {
    "id": "bp6AcqTsdYxy"
   },
   "outputs": [
    {
     "name": "stdout",
     "output_type": "stream",
     "text": [
      "9\n"
     ]
    }
   ],
   "source": [
    "#Write a Python program to find the total number of times letter 'p' is appeared in the below string using loop:-\n",
    "    \n",
    "#Input:- 'peter piper picked a peck of pickled peppers.\\n'\n",
    "#Output:- 9\n",
    "\n",
    "my_str = 'peter piper picked a peck of pickled peppers'\n",
    "count = 0\n",
    "for i in my_str:\n",
    "    if i == 'p':\n",
    "        count += 1\n",
    "print(count)"
   ]
  },
  {
   "cell_type": "code",
   "execution_count": 15,
   "metadata": {
    "id": "xvxSBhTJdav1"
   },
   "outputs": [
    {
     "name": "stdout",
     "output_type": "stream",
     "text": [
      "0\n",
      "6\n",
      "8\n",
      "12\n",
      "21\n",
      "29\n",
      "37\n",
      "39\n",
      "40\n"
     ]
    }
   ],
   "source": [
    "#Write a Python Program, to print all the indexes of all occurences of letter 'p' appeared in the string using loop:-\n",
    "    \n",
    "#Input:- 'peter piper picked a peck of pickled peppers.'\n",
    "#Output:- \n",
    "# 0\n",
    "# 6\n",
    "# 8\n",
    "# 12\n",
    "# 21\n",
    "# 29\n",
    "# 37\n",
    "# 39\n",
    "# 40\n",
    "\n",
    "my_str = 'peter piper picked a peck of pickled peppers'\n",
    "index = 0\n",
    "for letter in my_str:\n",
    "    if letter == 'p':\n",
    "        print(index)\n",
    "    index += 1"
   ]
  },
  {
   "cell_type": "code",
   "execution_count": 17,
   "metadata": {
    "id": "79L_feMadbmw"
   },
   "outputs": [
    {
     "name": "stdout",
     "output_type": "stream",
     "text": [
      "['peter', 'piper', 'picked', 'a', 'peck', 'of', 'pickled']\n"
     ]
    }
   ],
   "source": [
    "#Write a python program to find below output using loop:-\n",
    "\n",
    "#Input:- 'peter piper picked a peck of pickled peppers.'\n",
    "#Output:- ['peter', 'piper', 'picked', 'a', 'peck', 'of', 'pickled', 'peppers']\n",
    "\n",
    "# Method 1\n",
    "# my_str = 'peter piper picked a peck of pickled peppers'\n",
    "# split_str = my_str.split(' ')\n",
    "# print(split_str)\n",
    "\n",
    "# Method 2 \n",
    "my_str = 'peter piper picked a peck of pickled peppers'\n",
    "out_lst = []\n",
    "split_str = ''\n",
    "for i in my_str:\n",
    "    if i == ' ' or i == '.':\n",
    "        out_lst.append(split_str)\n",
    "        split_str = ''\n",
    "    else:\n",
    "        split_str += i\n",
    "print(out_lst)"
   ]
  },
  {
   "cell_type": "code",
   "execution_count": 26,
   "metadata": {
    "id": "vzs5AJ53deVS"
   },
   "outputs": [
    {
     "name": "stdout",
     "output_type": "stream",
     "text": [
      "['peter', 'piper', 'picked', 'a', 'peck', 'of', 'pickled', 'peppers']\n",
      " peppers pickled of peck a picked piper peter\n"
     ]
    }
   ],
   "source": [
    "#Write a python program to find below output using loop:-\n",
    "\n",
    "#Input:- 'peter piper picked a peck of pickled peppers.'\n",
    "#Output:- 'peppers pickled of peck a picked piper peter'\n",
    "\n",
    "# Method 1\n",
    "# my_str = 'peter piper picked a peck of pickled peppers'\n",
    "# split_str = my_str.split(' ')\n",
    "# reverse_str = ' '.join(reversed(split_str))\n",
    "# print(reverse_str)\n",
    "\n",
    "# Method 2\n",
    "my_str = 'peter piper picked a peck of pickled peppers.'\n",
    "out_lst = []\n",
    "out_str = ''\n",
    "for i in my_str:\n",
    "    if i == ' ' or i == '.':\n",
    "        out_lst.append(out_str)\n",
    "        out_str = ''\n",
    "    else:\n",
    "        out_str += i\n",
    "print(out_lst)\n",
    "for i in out_lst[::-1]:\n",
    "    out_str = out_str + ' ' + i\n",
    "print(out_str)"
   ]
  },
  {
   "cell_type": "code",
   "execution_count": 67,
   "metadata": {
    "id": "i-HP7DrCdhwS"
   },
   "outputs": [
    {
     "name": "stdout",
     "output_type": "stream",
     "text": [
      ".sreppep delkcip fo kcep a dekcip repip retep\n"
     ]
    }
   ],
   "source": [
    "#Write a python program to find below output using loop:-\n",
    "\n",
    "#Input:- 'peter piper picked a peck of pickled peppers.'\n",
    "#Output:- '.sreppep delkcip fo kcep a dekcip repip retep'\n",
    "\n",
    "my_str = 'peter piper picked a peck of pickled peppers.'\n",
    "reverse_str = ''.join(reversed(my_str))\n",
    "print(reverse_str)"
   ]
  },
  {
   "cell_type": "code",
   "execution_count": 27,
   "metadata": {
    "id": "3rt6p0ytdkq0"
   },
   "outputs": [
    {
     "name": "stdout",
     "output_type": "stream",
     "text": [
      "retep repip dekcip a kcep fo delkcip .sreppep\n"
     ]
    }
   ],
   "source": [
    "#Write a python program to find below output using loop:-\n",
    "\n",
    "#Input:- 'peter piper picked a peck of pickled peppers.'\n",
    "#Output:- 'retep repip dekcip a kcep fo delkcip sreppep'\n",
    "\n",
    "my_str = 'peter piper picked a peck of pickled peppers.'\n",
    "split_str = my_str.split(' ')\n",
    "out_lst = []\n",
    "for word in split_str:\n",
    "    out_lst.append(''.join(reversed(word)))\n",
    "out_str = \" \"\n",
    "print(out_str.join(out_lst))\n"
   ]
  },
  {
   "cell_type": "code",
   "execution_count": 7,
   "metadata": {
    "id": "HdlAWgT2dnKO"
   },
   "outputs": [
    {
     "name": "stdout",
     "output_type": "stream",
     "text": [
      "Peter Piper Picked A Peck Of Pickled Peppers. \n"
     ]
    }
   ],
   "source": [
    "#Write a python program to find below output using loop:-\n",
    "\n",
    "#Input:- 'peter piper picked a peck of pickled peppers.'\n",
    "#Output:- 'Peter Piper Picked A Peck Of Pickled Peppers'\n",
    "\n",
    "my_str = 'peter piper picked a peck of pickled peppers.'\n",
    "split_str = my_str.split(' ')\n",
    "str_out = \"\"\n",
    "for word in split_str:\n",
    "    str_out += word.capitalize()\n",
    "    str_out += \" \"\n",
    "print(str_out)        \n"
   ]
  },
  {
   "cell_type": "code",
   "execution_count": 2,
   "metadata": {
    "id": "OthUuacodrNl"
   },
   "outputs": [
    {
     "name": "stdout",
     "output_type": "stream",
     "text": [
      "Peter piper picked a peck of pickled peppers.\n"
     ]
    }
   ],
   "source": [
    "#Write a python program to find below output using loop:-\n",
    "\n",
    "#Input:- 'Peter Piper Picked A Peck Of Pickled Peppers.'\n",
    "#Output:- 'Peter piper picked a peck of pickled peppers'\n",
    "\n",
    "my_str = \"Peter Piper Picked A Peck Of Pickled Peppers.\"\n",
    "lst = list(my_str)\n",
    "lst_out=[]\n",
    "for i in range(len(lst)):\n",
    "    if i == 0:\n",
    "        lst_out.append(lst[i].upper())\n",
    "    else:\n",
    "        lst_out.append(lst[i].lower())\n",
    "        if i == len(lst)-1:\n",
    "            str_out = ''.join(lst_out)\n",
    "            print(str_out)    "
   ]
  },
  {
   "cell_type": "code",
   "execution_count": 11,
   "metadata": {
    "colab": {
     "base_uri": "https://localhost:8080/",
     "height": 34
    },
    "id": "scmDJE-ldsI9",
    "outputId": "4b1d1979-9f4a-4bc6-c505-b88b1bbd4d5d"
   },
   "outputs": [
    {
     "data": {
      "text/plain": [
       "29"
      ]
     },
     "execution_count": 11,
     "metadata": {},
     "output_type": "execute_result"
    }
   ],
   "source": [
    "#Write a python program to implement index method using loop. If sub_str is found in my_str then it will print the index\n",
    "# of first occurrence of first character of matching string in my_str:-\n",
    "\n",
    "#Input:- my_str = 'Peter Piper Picked A Peck Of Pickled Peppers.', sub_str = 'Pickl'\n",
    "#Output:- 29\n",
    "\n",
    "my_str = 'peter piper picked a peck of pickled peppers.'\n",
    "sub_str = 'pickl'\n",
    "my_str.index(sub_str)\n"
   ]
  },
  {
   "cell_type": "code",
   "execution_count": 13,
   "metadata": {
    "id": "Kq_fwdb_dvYE"
   },
   "outputs": [
    {
     "data": {
      "text/plain": [
       "'peter piper picked a pack of pickled peppers.'"
      ]
     },
     "execution_count": 13,
     "metadata": {},
     "output_type": "execute_result"
    }
   ],
   "source": [
    "#Write a python program to implement replace method using loop. If sub_str is found in my_str then it will replace the first \n",
    "#occurrence of sub_str with new_str else it will will print sub_str not found:-\n",
    "\n",
    "#Input:- my_str = 'Peter Piper Picked A Peck Of Pickled Peppers.', sub_str = 'Peck', new_str = 'Pack'\n",
    "#Output:- 'Peter Piper Picked A Pack Of Pickled Peppers.'\n",
    "\n",
    "my_str = 'peter piper picked a peck of pickled peppers.'\n",
    "sub_str = 'peck'\n",
    "new_str = 'pack'\n",
    "my_str.replace(sub_str, new_str, 1)\n"
   ]
  },
  {
   "cell_type": "code",
   "execution_count": 17,
   "metadata": {
    "id": "4Qes5D0cdyd1"
   },
   "outputs": [
    {
     "name": "stdout",
     "output_type": "stream",
     "text": [
      "*********************peck********************\n"
     ]
    }
   ],
   "source": [
    "#Write a python program to find below output (implements rjust and ljust) using loop:-\n",
    "\n",
    "#Input:- 'Peter Piper Picked A Peck Of Pickled Peppers.', sub_str = 'Peck', \n",
    "#Output:- '*********************Peck********************'\n",
    "\n",
    "\n",
    "my_str = 'peter piper picked a peck of pickled peppers.'\n",
    "sub_str = 'peck'\n",
    "print(sub_str.center(len(my_str), '*'))\n"
   ]
  },
  {
   "cell_type": "code",
   "execution_count": 21,
   "metadata": {
    "id": "DsOrb07Od0lR"
   },
   "outputs": [
    {
     "data": {
      "text/plain": [
       "[' This', ' Python class']"
      ]
     },
     "execution_count": 21,
     "metadata": {},
     "output_type": "execute_result"
    }
   ],
   "source": [
    "#Write a python program to find below output using loop:-\n",
    "\n",
    "#Input:- 'This is Python class', sep = ' is', \n",
    "#Output:- ['This', 'is', 'Python class']\n",
    "\n",
    "my_str = \" This is Python class\"\n",
    "sep = \" is\"\n",
    "my_str.split(sep)"
   ]
  }
 ],
 "metadata": {
  "colab": {
   "name": "Conditional_and_loop_assignment.ipynb",
   "provenance": []
  },
  "kernelspec": {
   "display_name": "Python 3",
   "language": "python",
   "name": "python3"
  },
  "language_info": {
   "codemirror_mode": {
    "name": "ipython",
    "version": 3
   },
   "file_extension": ".py",
   "mimetype": "text/x-python",
   "name": "python",
   "nbconvert_exporter": "python",
   "pygments_lexer": "ipython3",
   "version": "3.8.3"
  }
 },
 "nbformat": 4,
 "nbformat_minor": 1
}
