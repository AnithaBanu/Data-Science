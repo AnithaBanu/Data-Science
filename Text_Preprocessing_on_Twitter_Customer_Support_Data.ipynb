{
 "cells": [
  {
   "cell_type": "markdown",
   "metadata": {
    "id": "RUCf4KiUvvcl"
   },
   "source": [
    "## Text Preprocessing"
   ]
  },
  {
   "cell_type": "markdown",
   "metadata": {
    "id": "vGqMk4ChpFCL"
   },
   "source": [
    "In any machine learning task, cleaning or preprocessing the data is as important as model building if not more. And when it comes to unstructured data like text, this process is even more important.\n",
    "\n",
    "Objective of this code is to understand the various text preprocessing steps with examples.\n",
    "\n",
    "Some of the common text preprocessing / cleaning steps are:\n",
    "\n",
    "* Lower casing\n",
    "* Removal of Punctuations\n",
    "* Removal of Stopwords\n",
    "* Removal of Frequent words\n",
    "* Removal of Rare words\n",
    "* Number to words/ignoring numbers\n",
    "* Stemming\n",
    "* Lemmatization\n",
    "* Removal of emojis\n",
    "* Removal of emoticons\n",
    "* Conversion of emoticons to words\n",
    "* Conversion of emojis to words\n",
    "* Removal of URLs\n",
    "* Removal of HTML tags\n",
    "* Chat words conversion\n",
    "* Spelling correction\n",
    "\n",
    "\n",
    "So these are the different types of text preprocessing steps which we can do on text data. But we need not do all of these all the times. We need to carefully choose the preprocessing steps based on our use case since that also play an important role.\n",
    "\n",
    "For example, in sentiment analysis use case, we need not remove the emojis or emoticons as it will convey some important information about the sentiment. Similarly we need to decide based on our use cases."
   ]
  },
  {
   "cell_type": "code",
   "execution_count": null,
   "metadata": {
    "id": "c2J5Z7NVoQDK"
   },
   "outputs": [],
   "source": [
    "import pandas as pd\n",
    "import re\n",
    "import nltk\n",
    "import spacy\n",
    "import string"
   ]
  },
  {
   "cell_type": "code",
   "execution_count": null,
   "metadata": {
    "colab": {
     "base_uri": "https://localhost:8080/"
    },
    "id": "kYfe6OodpiHe",
    "outputId": "540b4118-6357-49ee-b984-17d60f45ce24"
   },
   "outputs": [
    {
     "name": "stdout",
     "output_type": "stream",
     "text": [
      "Drive already mounted at /content/drive; to attempt to forcibly remount, call drive.mount(\"/content/drive\", force_remount=True).\n"
     ]
    }
   ],
   "source": [
    "from google.colab import drive  # while working on colab\n",
    "drive.mount('/content/drive')"
   ]
  },
  {
   "cell_type": "code",
   "execution_count": null,
   "metadata": {
    "colab": {
     "base_uri": "https://localhost:8080/"
    },
    "id": "HZSsXrBepr5g",
    "outputId": "7d15eed3-d0f1-4491-b3bd-5375a086dc9c"
   },
   "outputs": [
    {
     "name": "stdout",
     "output_type": "stream",
     "text": [
      "creditcard.csv\tdataset  pubg  twcs.csv  uci-news-aggregator.csv\n"
     ]
    }
   ],
   "source": [
    "! ls \"/content/drive/My Drive/data\""
   ]
  },
  {
   "cell_type": "code",
   "execution_count": null,
   "metadata": {
    "colab": {
     "base_uri": "https://localhost:8080/",
     "height": 411
    },
    "id": "X0O40QtBqcAx",
    "outputId": "08ee1dd7-9277-40dd-f9ea-d476f34f057b"
   },
   "outputs": [
    {
     "name": "stderr",
     "output_type": "stream",
     "text": [
      "/usr/local/lib/python3.6/dist-packages/ipykernel_launcher.py:3: SettingWithCopyWarning: \n",
      "A value is trying to be set on a copy of a slice from a DataFrame.\n",
      "Try using .loc[row_indexer,col_indexer] = value instead\n",
      "\n",
      "See the caveats in the documentation: https://pandas.pydata.org/pandas-docs/stable/user_guide/indexing.html#returning-a-view-versus-a-copy\n",
      "  This is separate from the ipykernel package so we can avoid doing imports until\n"
     ]
    },
    {
     "data": {
      "text/html": [
       "<div>\n",
       "<style scoped>\n",
       "    .dataframe tbody tr th:only-of-type {\n",
       "        vertical-align: middle;\n",
       "    }\n",
       "\n",
       "    .dataframe tbody tr th {\n",
       "        vertical-align: top;\n",
       "    }\n",
       "\n",
       "    .dataframe thead th {\n",
       "        text-align: right;\n",
       "    }\n",
       "</style>\n",
       "<table border=\"1\" class=\"dataframe\">\n",
       "  <thead>\n",
       "    <tr style=\"text-align: right;\">\n",
       "      <th></th>\n",
       "      <th>tweet_id</th>\n",
       "      <th>author_id</th>\n",
       "      <th>inbound</th>\n",
       "      <th>created_at</th>\n",
       "      <th>text</th>\n",
       "      <th>response_tweet_id</th>\n",
       "      <th>in_response_to_tweet_id</th>\n",
       "    </tr>\n",
       "  </thead>\n",
       "  <tbody>\n",
       "    <tr>\n",
       "      <th>0</th>\n",
       "      <td>1</td>\n",
       "      <td>sprintcare</td>\n",
       "      <td>False</td>\n",
       "      <td>Tue Oct 31 22:10:47 +0000 2017</td>\n",
       "      <td>@115712 I understand. I would like to assist y...</td>\n",
       "      <td>2</td>\n",
       "      <td>3.0</td>\n",
       "    </tr>\n",
       "    <tr>\n",
       "      <th>1</th>\n",
       "      <td>2</td>\n",
       "      <td>115712</td>\n",
       "      <td>True</td>\n",
       "      <td>Tue Oct 31 22:11:45 +0000 2017</td>\n",
       "      <td>@sprintcare and how do you propose we do that</td>\n",
       "      <td>NaN</td>\n",
       "      <td>1.0</td>\n",
       "    </tr>\n",
       "    <tr>\n",
       "      <th>2</th>\n",
       "      <td>3</td>\n",
       "      <td>115712</td>\n",
       "      <td>True</td>\n",
       "      <td>Tue Oct 31 22:08:27 +0000 2017</td>\n",
       "      <td>@sprintcare I have sent several private messag...</td>\n",
       "      <td>1</td>\n",
       "      <td>4.0</td>\n",
       "    </tr>\n",
       "    <tr>\n",
       "      <th>3</th>\n",
       "      <td>4</td>\n",
       "      <td>sprintcare</td>\n",
       "      <td>False</td>\n",
       "      <td>Tue Oct 31 21:54:49 +0000 2017</td>\n",
       "      <td>@115712 Please send us a Private Message so th...</td>\n",
       "      <td>3</td>\n",
       "      <td>5.0</td>\n",
       "    </tr>\n",
       "    <tr>\n",
       "      <th>4</th>\n",
       "      <td>5</td>\n",
       "      <td>115712</td>\n",
       "      <td>True</td>\n",
       "      <td>Tue Oct 31 21:49:35 +0000 2017</td>\n",
       "      <td>@sprintcare I did.</td>\n",
       "      <td>4</td>\n",
       "      <td>6.0</td>\n",
       "    </tr>\n",
       "  </tbody>\n",
       "</table>\n",
       "</div>"
      ],
      "text/plain": [
       "   tweet_id   author_id  ...  response_tweet_id in_response_to_tweet_id\n",
       "0         1  sprintcare  ...                  2                     3.0\n",
       "1         2      115712  ...                NaN                     1.0\n",
       "2         3      115712  ...                  1                     4.0\n",
       "3         4  sprintcare  ...                  3                     5.0\n",
       "4         5      115712  ...                  4                     6.0\n",
       "\n",
       "[5 rows x 7 columns]"
      ]
     },
     "execution_count": 4,
     "metadata": {
      "tags": []
     },
     "output_type": "execute_result"
    }
   ],
   "source": [
    "full_df = pd.read_csv(\"/content/drive/My Drive/data/twcs.csv\", nrows=100000)\n",
    "df = full_df[[\"text\"]]\n",
    "df[\"text\"] = df[\"text\"].astype(str)\n",
    "full_df.head()"
   ]
  },
  {
   "cell_type": "markdown",
   "metadata": {
    "id": "G1pmhX9Tqj_t"
   },
   "source": [
    "1. Lower case conversion"
   ]
  },
  {
   "cell_type": "code",
   "execution_count": null,
   "metadata": {
    "colab": {
     "base_uri": "https://localhost:8080/",
     "height": 326
    },
    "id": "dWN8PEIlqmgS",
    "outputId": "478975b0-a382-481b-912f-c88cc6345edb"
   },
   "outputs": [
    {
     "name": "stderr",
     "output_type": "stream",
     "text": [
      "/usr/local/lib/python3.6/dist-packages/ipykernel_launcher.py:1: SettingWithCopyWarning: \n",
      "A value is trying to be set on a copy of a slice from a DataFrame.\n",
      "Try using .loc[row_indexer,col_indexer] = value instead\n",
      "\n",
      "See the caveats in the documentation: https://pandas.pydata.org/pandas-docs/stable/user_guide/indexing.html#returning-a-view-versus-a-copy\n",
      "  \"\"\"Entry point for launching an IPython kernel.\n"
     ]
    },
    {
     "data": {
      "text/html": [
       "<div>\n",
       "<style scoped>\n",
       "    .dataframe tbody tr th:only-of-type {\n",
       "        vertical-align: middle;\n",
       "    }\n",
       "\n",
       "    .dataframe tbody tr th {\n",
       "        vertical-align: top;\n",
       "    }\n",
       "\n",
       "    .dataframe thead th {\n",
       "        text-align: right;\n",
       "    }\n",
       "</style>\n",
       "<table border=\"1\" class=\"dataframe\">\n",
       "  <thead>\n",
       "    <tr style=\"text-align: right;\">\n",
       "      <th></th>\n",
       "      <th>text</th>\n",
       "      <th>text_lower</th>\n",
       "    </tr>\n",
       "  </thead>\n",
       "  <tbody>\n",
       "    <tr>\n",
       "      <th>0</th>\n",
       "      <td>@115712 I understand. I would like to assist y...</td>\n",
       "      <td>@115712 i understand. i would like to assist y...</td>\n",
       "    </tr>\n",
       "    <tr>\n",
       "      <th>1</th>\n",
       "      <td>@sprintcare and how do you propose we do that</td>\n",
       "      <td>@sprintcare and how do you propose we do that</td>\n",
       "    </tr>\n",
       "    <tr>\n",
       "      <th>2</th>\n",
       "      <td>@sprintcare I have sent several private messag...</td>\n",
       "      <td>@sprintcare i have sent several private messag...</td>\n",
       "    </tr>\n",
       "    <tr>\n",
       "      <th>3</th>\n",
       "      <td>@115712 Please send us a Private Message so th...</td>\n",
       "      <td>@115712 please send us a private message so th...</td>\n",
       "    </tr>\n",
       "    <tr>\n",
       "      <th>4</th>\n",
       "      <td>@sprintcare I did.</td>\n",
       "      <td>@sprintcare i did.</td>\n",
       "    </tr>\n",
       "  </tbody>\n",
       "</table>\n",
       "</div>"
      ],
      "text/plain": [
       "                                                text                                         text_lower\n",
       "0  @115712 I understand. I would like to assist y...  @115712 i understand. i would like to assist y...\n",
       "1      @sprintcare and how do you propose we do that      @sprintcare and how do you propose we do that\n",
       "2  @sprintcare I have sent several private messag...  @sprintcare i have sent several private messag...\n",
       "3  @115712 Please send us a Private Message so th...  @115712 please send us a private message so th...\n",
       "4                                 @sprintcare I did.                                 @sprintcare i did."
      ]
     },
     "execution_count": 5,
     "metadata": {
      "tags": []
     },
     "output_type": "execute_result"
    }
   ],
   "source": [
    "df[\"text_lower\"] = df[\"text\"].str.lower()\n",
    "df.head()"
   ]
  },
  {
   "cell_type": "code",
   "execution_count": null,
   "metadata": {
    "colab": {
     "base_uri": "https://localhost:8080/",
     "height": 1000
    },
    "id": "mG-xbt_NvYlP",
    "outputId": "7f00cbcd-f012-4696-f696-a2851586e8d4"
   },
   "outputs": [
    {
     "data": {
      "text/html": [
       "<div>\n",
       "<style scoped>\n",
       "    .dataframe tbody tr th:only-of-type {\n",
       "        vertical-align: middle;\n",
       "    }\n",
       "\n",
       "    .dataframe tbody tr th {\n",
       "        vertical-align: top;\n",
       "    }\n",
       "\n",
       "    .dataframe thead th {\n",
       "        text-align: right;\n",
       "    }\n",
       "</style>\n",
       "<table border=\"1\" class=\"dataframe\">\n",
       "  <thead>\n",
       "    <tr style=\"text-align: right;\">\n",
       "      <th></th>\n",
       "      <th>tweet_id</th>\n",
       "      <th>author_id</th>\n",
       "      <th>inbound</th>\n",
       "      <th>created_at</th>\n",
       "      <th>text</th>\n",
       "      <th>response_tweet_id</th>\n",
       "      <th>in_response_to_tweet_id</th>\n",
       "    </tr>\n",
       "  </thead>\n",
       "  <tbody>\n",
       "    <tr>\n",
       "      <th>0</th>\n",
       "      <td>1</td>\n",
       "      <td>sprintcare</td>\n",
       "      <td>False</td>\n",
       "      <td>Tue Oct 31 22:10:47 +0000 2017</td>\n",
       "      <td>@115712 I understand. I would like to assist y...</td>\n",
       "      <td>2</td>\n",
       "      <td>3.0</td>\n",
       "    </tr>\n",
       "    <tr>\n",
       "      <th>1</th>\n",
       "      <td>2</td>\n",
       "      <td>115712</td>\n",
       "      <td>True</td>\n",
       "      <td>Tue Oct 31 22:11:45 +0000 2017</td>\n",
       "      <td>@sprintcare and how do you propose we do that</td>\n",
       "      <td>NaN</td>\n",
       "      <td>1.0</td>\n",
       "    </tr>\n",
       "    <tr>\n",
       "      <th>2</th>\n",
       "      <td>3</td>\n",
       "      <td>115712</td>\n",
       "      <td>True</td>\n",
       "      <td>Tue Oct 31 22:08:27 +0000 2017</td>\n",
       "      <td>@sprintcare I have sent several private messag...</td>\n",
       "      <td>1</td>\n",
       "      <td>4.0</td>\n",
       "    </tr>\n",
       "    <tr>\n",
       "      <th>3</th>\n",
       "      <td>4</td>\n",
       "      <td>sprintcare</td>\n",
       "      <td>False</td>\n",
       "      <td>Tue Oct 31 21:54:49 +0000 2017</td>\n",
       "      <td>@115712 Please send us a Private Message so th...</td>\n",
       "      <td>3</td>\n",
       "      <td>5.0</td>\n",
       "    </tr>\n",
       "    <tr>\n",
       "      <th>4</th>\n",
       "      <td>5</td>\n",
       "      <td>115712</td>\n",
       "      <td>True</td>\n",
       "      <td>Tue Oct 31 21:49:35 +0000 2017</td>\n",
       "      <td>@sprintcare I did.</td>\n",
       "      <td>4</td>\n",
       "      <td>6.0</td>\n",
       "    </tr>\n",
       "    <tr>\n",
       "      <th>5</th>\n",
       "      <td>6</td>\n",
       "      <td>sprintcare</td>\n",
       "      <td>False</td>\n",
       "      <td>Tue Oct 31 21:46:24 +0000 2017</td>\n",
       "      <td>@115712 Can you please send us a private messa...</td>\n",
       "      <td>5,7</td>\n",
       "      <td>8.0</td>\n",
       "    </tr>\n",
       "    <tr>\n",
       "      <th>6</th>\n",
       "      <td>8</td>\n",
       "      <td>115712</td>\n",
       "      <td>True</td>\n",
       "      <td>Tue Oct 31 21:45:10 +0000 2017</td>\n",
       "      <td>@sprintcare is the worst customer service</td>\n",
       "      <td>9,6,10</td>\n",
       "      <td>NaN</td>\n",
       "    </tr>\n",
       "    <tr>\n",
       "      <th>7</th>\n",
       "      <td>11</td>\n",
       "      <td>sprintcare</td>\n",
       "      <td>False</td>\n",
       "      <td>Tue Oct 31 22:10:35 +0000 2017</td>\n",
       "      <td>@115713 This is saddening to hear. Please shoo...</td>\n",
       "      <td>NaN</td>\n",
       "      <td>12.0</td>\n",
       "    </tr>\n",
       "    <tr>\n",
       "      <th>8</th>\n",
       "      <td>12</td>\n",
       "      <td>115713</td>\n",
       "      <td>True</td>\n",
       "      <td>Tue Oct 31 22:04:47 +0000 2017</td>\n",
       "      <td>@sprintcare You gonna magically change your co...</td>\n",
       "      <td>11,13,14</td>\n",
       "      <td>15.0</td>\n",
       "    </tr>\n",
       "    <tr>\n",
       "      <th>9</th>\n",
       "      <td>15</td>\n",
       "      <td>sprintcare</td>\n",
       "      <td>False</td>\n",
       "      <td>Tue Oct 31 20:03:31 +0000 2017</td>\n",
       "      <td>@115713 We understand your concerns and we'd l...</td>\n",
       "      <td>12</td>\n",
       "      <td>16.0</td>\n",
       "    </tr>\n",
       "    <tr>\n",
       "      <th>10</th>\n",
       "      <td>16</td>\n",
       "      <td>115713</td>\n",
       "      <td>True</td>\n",
       "      <td>Tue Oct 31 20:00:43 +0000 2017</td>\n",
       "      <td>@sprintcare Since I signed up with you....Sinc...</td>\n",
       "      <td>15</td>\n",
       "      <td>17.0</td>\n",
       "    </tr>\n",
       "    <tr>\n",
       "      <th>11</th>\n",
       "      <td>17</td>\n",
       "      <td>sprintcare</td>\n",
       "      <td>False</td>\n",
       "      <td>Tue Oct 31 19:59:13 +0000 2017</td>\n",
       "      <td>@115713 H there! We'd definitely like to work ...</td>\n",
       "      <td>16</td>\n",
       "      <td>18.0</td>\n",
       "    </tr>\n",
       "    <tr>\n",
       "      <th>12</th>\n",
       "      <td>18</td>\n",
       "      <td>115713</td>\n",
       "      <td>True</td>\n",
       "      <td>Tue Oct 31 19:56:01 +0000 2017</td>\n",
       "      <td>@115714 y’all lie about your “great” connectio...</td>\n",
       "      <td>17</td>\n",
       "      <td>NaN</td>\n",
       "    </tr>\n",
       "    <tr>\n",
       "      <th>13</th>\n",
       "      <td>19</td>\n",
       "      <td>sprintcare</td>\n",
       "      <td>False</td>\n",
       "      <td>Tue Oct 31 22:10:10 +0000 2017</td>\n",
       "      <td>@115715 Please send me a private message so th...</td>\n",
       "      <td>NaN</td>\n",
       "      <td>20.0</td>\n",
       "    </tr>\n",
       "    <tr>\n",
       "      <th>14</th>\n",
       "      <td>20</td>\n",
       "      <td>115715</td>\n",
       "      <td>True</td>\n",
       "      <td>Tue Oct 31 22:03:34 +0000 2017</td>\n",
       "      <td>@115714 whenever I contact customer support, t...</td>\n",
       "      <td>19</td>\n",
       "      <td>NaN</td>\n",
       "    </tr>\n",
       "    <tr>\n",
       "      <th>15</th>\n",
       "      <td>21</td>\n",
       "      <td>Ask_Spectrum</td>\n",
       "      <td>False</td>\n",
       "      <td>Tue Oct 31 22:14:37 +0000 2017</td>\n",
       "      <td>@115716 What information is incorrect? ^JK</td>\n",
       "      <td>22,23</td>\n",
       "      <td>24.0</td>\n",
       "    </tr>\n",
       "    <tr>\n",
       "      <th>16</th>\n",
       "      <td>22</td>\n",
       "      <td>115716</td>\n",
       "      <td>True</td>\n",
       "      <td>Tue Oct 31 22:16:48 +0000 2017</td>\n",
       "      <td>@Ask_Spectrum Would you like me to email you a...</td>\n",
       "      <td>25</td>\n",
       "      <td>21.0</td>\n",
       "    </tr>\n",
       "    <tr>\n",
       "      <th>17</th>\n",
       "      <td>25</td>\n",
       "      <td>Ask_Spectrum</td>\n",
       "      <td>False</td>\n",
       "      <td>Tue Oct 31 22:18:28 +0000 2017</td>\n",
       "      <td>@115716 Our department is part of the corporat...</td>\n",
       "      <td>26</td>\n",
       "      <td>22.0</td>\n",
       "    </tr>\n",
       "    <tr>\n",
       "      <th>18</th>\n",
       "      <td>26</td>\n",
       "      <td>115716</td>\n",
       "      <td>True</td>\n",
       "      <td>Tue Oct 31 22:19:56 +0000 2017</td>\n",
       "      <td>@Ask_Spectrum I received this from your corpor...</td>\n",
       "      <td>27</td>\n",
       "      <td>25.0</td>\n",
       "    </tr>\n",
       "    <tr>\n",
       "      <th>19</th>\n",
       "      <td>27</td>\n",
       "      <td>Ask_Spectrum</td>\n",
       "      <td>False</td>\n",
       "      <td>Tue Oct 31 22:21:26 +0000 2017</td>\n",
       "      <td>@115716 No thank you. ^JK</td>\n",
       "      <td>NaN</td>\n",
       "      <td>26.0</td>\n",
       "    </tr>\n",
       "    <tr>\n",
       "      <th>20</th>\n",
       "      <td>23</td>\n",
       "      <td>115716</td>\n",
       "      <td>True</td>\n",
       "      <td>Tue Oct 31 22:16:05 +0000 2017</td>\n",
       "      <td>@Ask_Spectrum The correct way to do it is via ...</td>\n",
       "      <td>NaN</td>\n",
       "      <td>21.0</td>\n",
       "    </tr>\n",
       "    <tr>\n",
       "      <th>21</th>\n",
       "      <td>24</td>\n",
       "      <td>115716</td>\n",
       "      <td>True</td>\n",
       "      <td>Tue Oct 31 22:13:02 +0000 2017</td>\n",
       "      <td>@Ask_Spectrum That is INCORRECT information I ...</td>\n",
       "      <td>21</td>\n",
       "      <td>28.0</td>\n",
       "    </tr>\n",
       "    <tr>\n",
       "      <th>22</th>\n",
       "      <td>28</td>\n",
       "      <td>Ask_Spectrum</td>\n",
       "      <td>False</td>\n",
       "      <td>Tue Oct 31 22:05:37 +0000 2017</td>\n",
       "      <td>@115716 The information pertaining to the acco...</td>\n",
       "      <td>24</td>\n",
       "      <td>29.0</td>\n",
       "    </tr>\n",
       "    <tr>\n",
       "      <th>23</th>\n",
       "      <td>29</td>\n",
       "      <td>115716</td>\n",
       "      <td>True</td>\n",
       "      <td>Tue Oct 31 22:01:35 +0000 2017</td>\n",
       "      <td>actually that's a broken link you sent me and ...</td>\n",
       "      <td>28</td>\n",
       "      <td>NaN</td>\n",
       "    </tr>\n",
       "    <tr>\n",
       "      <th>24</th>\n",
       "      <td>30</td>\n",
       "      <td>Ask_Spectrum</td>\n",
       "      <td>False</td>\n",
       "      <td>Tue Oct 31 22:12:09 +0000 2017</td>\n",
       "      <td>@115717 Hello, My apologies for any frustratio...</td>\n",
       "      <td>NaN</td>\n",
       "      <td>31.0</td>\n",
       "    </tr>\n",
       "  </tbody>\n",
       "</table>\n",
       "</div>"
      ],
      "text/plain": [
       "    tweet_id     author_id  ...  response_tweet_id in_response_to_tweet_id\n",
       "0          1    sprintcare  ...                  2                     3.0\n",
       "1          2        115712  ...                NaN                     1.0\n",
       "2          3        115712  ...                  1                     4.0\n",
       "3          4    sprintcare  ...                  3                     5.0\n",
       "4          5        115712  ...                  4                     6.0\n",
       "5          6    sprintcare  ...                5,7                     8.0\n",
       "6          8        115712  ...             9,6,10                     NaN\n",
       "7         11    sprintcare  ...                NaN                    12.0\n",
       "8         12        115713  ...           11,13,14                    15.0\n",
       "9         15    sprintcare  ...                 12                    16.0\n",
       "10        16        115713  ...                 15                    17.0\n",
       "11        17    sprintcare  ...                 16                    18.0\n",
       "12        18        115713  ...                 17                     NaN\n",
       "13        19    sprintcare  ...                NaN                    20.0\n",
       "14        20        115715  ...                 19                     NaN\n",
       "15        21  Ask_Spectrum  ...              22,23                    24.0\n",
       "16        22        115716  ...                 25                    21.0\n",
       "17        25  Ask_Spectrum  ...                 26                    22.0\n",
       "18        26        115716  ...                 27                    25.0\n",
       "19        27  Ask_Spectrum  ...                NaN                    26.0\n",
       "20        23        115716  ...                NaN                    21.0\n",
       "21        24        115716  ...                 21                    28.0\n",
       "22        28  Ask_Spectrum  ...                 24                    29.0\n",
       "23        29        115716  ...                 28                     NaN\n",
       "24        30  Ask_Spectrum  ...                NaN                    31.0\n",
       "\n",
       "[25 rows x 7 columns]"
      ]
     },
     "execution_count": 6,
     "metadata": {
      "tags": []
     },
     "output_type": "execute_result"
    }
   ],
   "source": [
    "full_df.head(25)"
   ]
  },
  {
   "cell_type": "markdown",
   "metadata": {
    "id": "Vg43I6c3qsYi"
   },
   "source": [
    "2. Remove Punctuations"
   ]
  },
  {
   "cell_type": "code",
   "execution_count": null,
   "metadata": {
    "colab": {
     "base_uri": "https://localhost:8080/",
     "height": 377
    },
    "id": "diGEs71mqtPr",
    "outputId": "e4dceefc-12ec-4702-8f21-affd3a4649c7"
   },
   "outputs": [
    {
     "name": "stdout",
     "output_type": "stream",
     "text": [
      "!\"#$%&'()*+,-./:;<=>?@[\\]^_`{|}~\n"
     ]
    },
    {
     "name": "stderr",
     "output_type": "stream",
     "text": [
      "/usr/local/lib/python3.6/dist-packages/ipykernel_launcher.py:10: SettingWithCopyWarning: \n",
      "A value is trying to be set on a copy of a slice from a DataFrame.\n",
      "Try using .loc[row_indexer,col_indexer] = value instead\n",
      "\n",
      "See the caveats in the documentation: https://pandas.pydata.org/pandas-docs/stable/user_guide/indexing.html#returning-a-view-versus-a-copy\n",
      "  # Remove the CWD from sys.path while we load stuff.\n"
     ]
    },
    {
     "data": {
      "text/html": [
       "<div>\n",
       "<style scoped>\n",
       "    .dataframe tbody tr th:only-of-type {\n",
       "        vertical-align: middle;\n",
       "    }\n",
       "\n",
       "    .dataframe tbody tr th {\n",
       "        vertical-align: top;\n",
       "    }\n",
       "\n",
       "    .dataframe thead th {\n",
       "        text-align: right;\n",
       "    }\n",
       "</style>\n",
       "<table border=\"1\" class=\"dataframe\">\n",
       "  <thead>\n",
       "    <tr style=\"text-align: right;\">\n",
       "      <th></th>\n",
       "      <th>text</th>\n",
       "      <th>text_lower</th>\n",
       "      <th>text_wo_punct</th>\n",
       "    </tr>\n",
       "  </thead>\n",
       "  <tbody>\n",
       "    <tr>\n",
       "      <th>0</th>\n",
       "      <td>@115712 I understand. I would like to assist y...</td>\n",
       "      <td>@115712 i understand. i would like to assist y...</td>\n",
       "      <td>115712 i understand i would like to assist you...</td>\n",
       "    </tr>\n",
       "    <tr>\n",
       "      <th>1</th>\n",
       "      <td>@sprintcare and how do you propose we do that</td>\n",
       "      <td>@sprintcare and how do you propose we do that</td>\n",
       "      <td>sprintcare and how do you propose we do that</td>\n",
       "    </tr>\n",
       "    <tr>\n",
       "      <th>2</th>\n",
       "      <td>@sprintcare I have sent several private messag...</td>\n",
       "      <td>@sprintcare i have sent several private messag...</td>\n",
       "      <td>sprintcare i have sent several private message...</td>\n",
       "    </tr>\n",
       "    <tr>\n",
       "      <th>3</th>\n",
       "      <td>@115712 Please send us a Private Message so th...</td>\n",
       "      <td>@115712 please send us a private message so th...</td>\n",
       "      <td>115712 please send us a private message so tha...</td>\n",
       "    </tr>\n",
       "    <tr>\n",
       "      <th>4</th>\n",
       "      <td>@sprintcare I did.</td>\n",
       "      <td>@sprintcare i did.</td>\n",
       "      <td>sprintcare i did</td>\n",
       "    </tr>\n",
       "  </tbody>\n",
       "</table>\n",
       "</div>"
      ],
      "text/plain": [
       "                                                text  ...                                      text_wo_punct\n",
       "0  @115712 I understand. I would like to assist y...  ...  115712 i understand i would like to assist you...\n",
       "1      @sprintcare and how do you propose we do that  ...       sprintcare and how do you propose we do that\n",
       "2  @sprintcare I have sent several private messag...  ...  sprintcare i have sent several private message...\n",
       "3  @115712 Please send us a Private Message so th...  ...  115712 please send us a private message so tha...\n",
       "4                                 @sprintcare I did.  ...                                   sprintcare i did\n",
       "\n",
       "[5 rows x 3 columns]"
      ]
     },
     "execution_count": 7,
     "metadata": {
      "tags": []
     },
     "output_type": "execute_result"
    }
   ],
   "source": [
    "# drop the new column created in last cell\n",
    "# df.drop([\"text_lower\"], axis=1, inplace=True)\n",
    "\n",
    "PUNCT_TO_REMOVE = string.punctuation\n",
    "print (PUNCT_TO_REMOVE)\n",
    "def remove_punctuation(text):\n",
    "    \"\"\"custom function to remove the punctuation\"\"\"\n",
    "    return text.translate(str.maketrans('', '', PUNCT_TO_REMOVE))\n",
    "\n",
    "df[\"text_wo_punct\"] = df[\"text_lower\"].apply(lambda text: remove_punctuation(text))\n",
    "df.head()"
   ]
  },
  {
   "cell_type": "code",
   "execution_count": null,
   "metadata": {
    "colab": {
     "base_uri": "https://localhost:8080/",
     "height": 1000
    },
    "id": "X2QZshds-7hu",
    "outputId": "91edd0df-079f-4500-b49e-e4dcfea33ae2"
   },
   "outputs": [
    {
     "data": {
      "text/html": [
       "<div>\n",
       "<style scoped>\n",
       "    .dataframe tbody tr th:only-of-type {\n",
       "        vertical-align: middle;\n",
       "    }\n",
       "\n",
       "    .dataframe tbody tr th {\n",
       "        vertical-align: top;\n",
       "    }\n",
       "\n",
       "    .dataframe thead th {\n",
       "        text-align: right;\n",
       "    }\n",
       "</style>\n",
       "<table border=\"1\" class=\"dataframe\">\n",
       "  <thead>\n",
       "    <tr style=\"text-align: right;\">\n",
       "      <th></th>\n",
       "      <th>text</th>\n",
       "      <th>text_lower</th>\n",
       "      <th>text_wo_punct</th>\n",
       "    </tr>\n",
       "  </thead>\n",
       "  <tbody>\n",
       "    <tr>\n",
       "      <th>0</th>\n",
       "      <td>@115712 I understand. I would like to assist y...</td>\n",
       "      <td>@115712 i understand. i would like to assist y...</td>\n",
       "      <td>115712 i understand i would like to assist you...</td>\n",
       "    </tr>\n",
       "    <tr>\n",
       "      <th>1</th>\n",
       "      <td>@sprintcare and how do you propose we do that</td>\n",
       "      <td>@sprintcare and how do you propose we do that</td>\n",
       "      <td>sprintcare and how do you propose we do that</td>\n",
       "    </tr>\n",
       "    <tr>\n",
       "      <th>2</th>\n",
       "      <td>@sprintcare I have sent several private messag...</td>\n",
       "      <td>@sprintcare i have sent several private messag...</td>\n",
       "      <td>sprintcare i have sent several private message...</td>\n",
       "    </tr>\n",
       "    <tr>\n",
       "      <th>3</th>\n",
       "      <td>@115712 Please send us a Private Message so th...</td>\n",
       "      <td>@115712 please send us a private message so th...</td>\n",
       "      <td>115712 please send us a private message so tha...</td>\n",
       "    </tr>\n",
       "    <tr>\n",
       "      <th>4</th>\n",
       "      <td>@sprintcare I did.</td>\n",
       "      <td>@sprintcare i did.</td>\n",
       "      <td>sprintcare i did</td>\n",
       "    </tr>\n",
       "    <tr>\n",
       "      <th>5</th>\n",
       "      <td>@115712 Can you please send us a private messa...</td>\n",
       "      <td>@115712 can you please send us a private messa...</td>\n",
       "      <td>115712 can you please send us a private messag...</td>\n",
       "    </tr>\n",
       "    <tr>\n",
       "      <th>6</th>\n",
       "      <td>@sprintcare is the worst customer service</td>\n",
       "      <td>@sprintcare is the worst customer service</td>\n",
       "      <td>sprintcare is the worst customer service</td>\n",
       "    </tr>\n",
       "    <tr>\n",
       "      <th>7</th>\n",
       "      <td>@115713 This is saddening to hear. Please shoo...</td>\n",
       "      <td>@115713 this is saddening to hear. please shoo...</td>\n",
       "      <td>115713 this is saddening to hear please shoot ...</td>\n",
       "    </tr>\n",
       "    <tr>\n",
       "      <th>8</th>\n",
       "      <td>@sprintcare You gonna magically change your co...</td>\n",
       "      <td>@sprintcare you gonna magically change your co...</td>\n",
       "      <td>sprintcare you gonna magically change your con...</td>\n",
       "    </tr>\n",
       "    <tr>\n",
       "      <th>9</th>\n",
       "      <td>@115713 We understand your concerns and we'd l...</td>\n",
       "      <td>@115713 we understand your concerns and we'd l...</td>\n",
       "      <td>115713 we understand your concerns and wed lik...</td>\n",
       "    </tr>\n",
       "    <tr>\n",
       "      <th>10</th>\n",
       "      <td>@sprintcare Since I signed up with you....Sinc...</td>\n",
       "      <td>@sprintcare since i signed up with you....sinc...</td>\n",
       "      <td>sprintcare since i signed up with yousince day 1</td>\n",
       "    </tr>\n",
       "    <tr>\n",
       "      <th>11</th>\n",
       "      <td>@115713 H there! We'd definitely like to work ...</td>\n",
       "      <td>@115713 h there! we'd definitely like to work ...</td>\n",
       "      <td>115713 h there wed definitely like to work wit...</td>\n",
       "    </tr>\n",
       "    <tr>\n",
       "      <th>12</th>\n",
       "      <td>@115714 y’all lie about your “great” connectio...</td>\n",
       "      <td>@115714 y’all lie about your “great” connectio...</td>\n",
       "      <td>115714 y’all lie about your “great” connection...</td>\n",
       "    </tr>\n",
       "    <tr>\n",
       "      <th>13</th>\n",
       "      <td>@115715 Please send me a private message so th...</td>\n",
       "      <td>@115715 please send me a private message so th...</td>\n",
       "      <td>115715 please send me a private message so tha...</td>\n",
       "    </tr>\n",
       "    <tr>\n",
       "      <th>14</th>\n",
       "      <td>@115714 whenever I contact customer support, t...</td>\n",
       "      <td>@115714 whenever i contact customer support, t...</td>\n",
       "      <td>115714 whenever i contact customer support the...</td>\n",
       "    </tr>\n",
       "    <tr>\n",
       "      <th>15</th>\n",
       "      <td>@115716 What information is incorrect? ^JK</td>\n",
       "      <td>@115716 what information is incorrect? ^jk</td>\n",
       "      <td>115716 what information is incorrect jk</td>\n",
       "    </tr>\n",
       "    <tr>\n",
       "      <th>16</th>\n",
       "      <td>@Ask_Spectrum Would you like me to email you a...</td>\n",
       "      <td>@ask_spectrum would you like me to email you a...</td>\n",
       "      <td>askspectrum would you like me to email you a c...</td>\n",
       "    </tr>\n",
       "    <tr>\n",
       "      <th>17</th>\n",
       "      <td>@115716 Our department is part of the corporat...</td>\n",
       "      <td>@115716 our department is part of the corporat...</td>\n",
       "      <td>115716 our department is part of the corporate...</td>\n",
       "    </tr>\n",
       "    <tr>\n",
       "      <th>18</th>\n",
       "      <td>@Ask_Spectrum I received this from your corpor...</td>\n",
       "      <td>@ask_spectrum i received this from your corpor...</td>\n",
       "      <td>askspectrum i received this from your corporat...</td>\n",
       "    </tr>\n",
       "    <tr>\n",
       "      <th>19</th>\n",
       "      <td>@115716 No thank you. ^JK</td>\n",
       "      <td>@115716 no thank you. ^jk</td>\n",
       "      <td>115716 no thank you jk</td>\n",
       "    </tr>\n",
       "    <tr>\n",
       "      <th>20</th>\n",
       "      <td>@Ask_Spectrum The correct way to do it is via ...</td>\n",
       "      <td>@ask_spectrum the correct way to do it is via ...</td>\n",
       "      <td>askspectrum the correct way to do it is via an...</td>\n",
       "    </tr>\n",
       "    <tr>\n",
       "      <th>21</th>\n",
       "      <td>@Ask_Spectrum That is INCORRECT information I ...</td>\n",
       "      <td>@ask_spectrum that is incorrect information i ...</td>\n",
       "      <td>askspectrum that is incorrect information i ha...</td>\n",
       "    </tr>\n",
       "    <tr>\n",
       "      <th>22</th>\n",
       "      <td>@115716 The information pertaining to the acco...</td>\n",
       "      <td>@115716 the information pertaining to the acco...</td>\n",
       "      <td>115716 the information pertaining to the accou...</td>\n",
       "    </tr>\n",
       "    <tr>\n",
       "      <th>23</th>\n",
       "      <td>actually that's a broken link you sent me and ...</td>\n",
       "      <td>actually that's a broken link you sent me and ...</td>\n",
       "      <td>actually thats a broken link you sent me and i...</td>\n",
       "    </tr>\n",
       "    <tr>\n",
       "      <th>24</th>\n",
       "      <td>@115717 Hello, My apologies for any frustratio...</td>\n",
       "      <td>@115717 hello, my apologies for any frustratio...</td>\n",
       "      <td>115717 hello my apologies for any frustrations...</td>\n",
       "    </tr>\n",
       "  </tbody>\n",
       "</table>\n",
       "</div>"
      ],
      "text/plain": [
       "                                                 text  ...                                      text_wo_punct\n",
       "0   @115712 I understand. I would like to assist y...  ...  115712 i understand i would like to assist you...\n",
       "1       @sprintcare and how do you propose we do that  ...       sprintcare and how do you propose we do that\n",
       "2   @sprintcare I have sent several private messag...  ...  sprintcare i have sent several private message...\n",
       "3   @115712 Please send us a Private Message so th...  ...  115712 please send us a private message so tha...\n",
       "4                                  @sprintcare I did.  ...                                   sprintcare i did\n",
       "5   @115712 Can you please send us a private messa...  ...  115712 can you please send us a private messag...\n",
       "6           @sprintcare is the worst customer service  ...           sprintcare is the worst customer service\n",
       "7   @115713 This is saddening to hear. Please shoo...  ...  115713 this is saddening to hear please shoot ...\n",
       "8   @sprintcare You gonna magically change your co...  ...  sprintcare you gonna magically change your con...\n",
       "9   @115713 We understand your concerns and we'd l...  ...  115713 we understand your concerns and wed lik...\n",
       "10  @sprintcare Since I signed up with you....Sinc...  ...   sprintcare since i signed up with yousince day 1\n",
       "11  @115713 H there! We'd definitely like to work ...  ...  115713 h there wed definitely like to work wit...\n",
       "12  @115714 y’all lie about your “great” connectio...  ...  115714 y’all lie about your “great” connection...\n",
       "13  @115715 Please send me a private message so th...  ...  115715 please send me a private message so tha...\n",
       "14  @115714 whenever I contact customer support, t...  ...  115714 whenever i contact customer support the...\n",
       "15         @115716 What information is incorrect? ^JK  ...            115716 what information is incorrect jk\n",
       "16  @Ask_Spectrum Would you like me to email you a...  ...  askspectrum would you like me to email you a c...\n",
       "17  @115716 Our department is part of the corporat...  ...  115716 our department is part of the corporate...\n",
       "18  @Ask_Spectrum I received this from your corpor...  ...  askspectrum i received this from your corporat...\n",
       "19                          @115716 No thank you. ^JK  ...                             115716 no thank you jk\n",
       "20  @Ask_Spectrum The correct way to do it is via ...  ...  askspectrum the correct way to do it is via an...\n",
       "21  @Ask_Spectrum That is INCORRECT information I ...  ...  askspectrum that is incorrect information i ha...\n",
       "22  @115716 The information pertaining to the acco...  ...  115716 the information pertaining to the accou...\n",
       "23  actually that's a broken link you sent me and ...  ...  actually thats a broken link you sent me and i...\n",
       "24  @115717 Hello, My apologies for any frustratio...  ...  115717 hello my apologies for any frustrations...\n",
       "\n",
       "[25 rows x 3 columns]"
      ]
     },
     "execution_count": 8,
     "metadata": {
      "tags": []
     },
     "output_type": "execute_result"
    }
   ],
   "source": [
    "df.head(25)"
   ]
  },
  {
   "cell_type": "markdown",
   "metadata": {
    "id": "3XKNc0Hlqyzw"
   },
   "source": [
    "3. Removal of Stopwords"
   ]
  },
  {
   "cell_type": "code",
   "execution_count": null,
   "metadata": {
    "colab": {
     "base_uri": "https://localhost:8080/"
    },
    "id": "R7TlwS-xt5-6",
    "outputId": "0c6b76b1-e6c4-4d62-ed44-9864279bbbba"
   },
   "outputs": [
    {
     "name": "stdout",
     "output_type": "stream",
     "text": [
      "[nltk_data] Downloading package stopwords to /root/nltk_data...\n",
      "[nltk_data]   Unzipping corpora/stopwords.zip.\n"
     ]
    },
    {
     "data": {
      "text/plain": [
       "True"
      ]
     },
     "execution_count": 9,
     "metadata": {
      "tags": []
     },
     "output_type": "execute_result"
    }
   ],
   "source": [
    "nltk.download('stopwords')"
   ]
  },
  {
   "cell_type": "code",
   "execution_count": null,
   "metadata": {
    "colab": {
     "base_uri": "https://localhost:8080/",
     "height": 155
    },
    "id": "24CFzvtTt2tw",
    "outputId": "2a4b29be-c24f-411b-e3cd-2994f9bb4fe3"
   },
   "outputs": [
    {
     "data": {
      "application/vnd.google.colaboratory.intrinsic+json": {
       "type": "string"
      },
      "text/plain": [
       "\"i, me, my, myself, we, our, ours, ourselves, you, you're, you've, you'll, you'd, your, yours, yourself, yourselves, he, him, his, himself, she, she's, her, hers, herself, it, it's, its, itself, they, them, their, theirs, themselves, what, which, who, whom, this, that, that'll, these, those, am, is, are, was, were, be, been, being, have, has, had, having, do, does, did, doing, a, an, the, and, but, if, or, because, as, until, while, of, at, by, for, with, about, against, between, into, through, during, before, after, above, below, to, from, up, down, in, out, on, off, over, under, again, further, then, once, here, there, when, where, why, how, all, any, both, each, few, more, most, other, some, such, no, nor, not, only, own, same, so, than, too, very, s, t, can, will, just, don, don't, should, should've, now, d, ll, m, o, re, ve, y, ain, aren, aren't, couldn, couldn't, didn, didn't, doesn, doesn't, hadn, hadn't, hasn, hasn't, haven, haven't, isn, isn't, ma, mightn, mightn't, mustn, mustn't, needn, needn't, shan, shan't, shouldn, shouldn't, wasn, wasn't, weren, weren't, won, won't, wouldn, wouldn't\""
      ]
     },
     "execution_count": 10,
     "metadata": {
      "tags": []
     },
     "output_type": "execute_result"
    }
   ],
   "source": [
    "from nltk.corpus import stopwords\n",
    "\", \".join(stopwords.words('english'))"
   ]
  },
  {
   "cell_type": "code",
   "execution_count": null,
   "metadata": {
    "colab": {
     "base_uri": "https://localhost:8080/",
     "height": 394
    },
    "id": "gFOX3Vb4qydD",
    "outputId": "a2b4daf5-d15c-4c45-82e9-12c77d6e97db"
   },
   "outputs": [
    {
     "name": "stderr",
     "output_type": "stream",
     "text": [
      "/usr/local/lib/python3.6/dist-packages/ipykernel_launcher.py:6: SettingWithCopyWarning: \n",
      "A value is trying to be set on a copy of a slice from a DataFrame.\n",
      "Try using .loc[row_indexer,col_indexer] = value instead\n",
      "\n",
      "See the caveats in the documentation: https://pandas.pydata.org/pandas-docs/stable/user_guide/indexing.html#returning-a-view-versus-a-copy\n",
      "  \n"
     ]
    },
    {
     "data": {
      "text/html": [
       "<div>\n",
       "<style scoped>\n",
       "    .dataframe tbody tr th:only-of-type {\n",
       "        vertical-align: middle;\n",
       "    }\n",
       "\n",
       "    .dataframe tbody tr th {\n",
       "        vertical-align: top;\n",
       "    }\n",
       "\n",
       "    .dataframe thead th {\n",
       "        text-align: right;\n",
       "    }\n",
       "</style>\n",
       "<table border=\"1\" class=\"dataframe\">\n",
       "  <thead>\n",
       "    <tr style=\"text-align: right;\">\n",
       "      <th></th>\n",
       "      <th>text</th>\n",
       "      <th>text_lower</th>\n",
       "      <th>text_wo_punct</th>\n",
       "      <th>text_wo_stop</th>\n",
       "    </tr>\n",
       "  </thead>\n",
       "  <tbody>\n",
       "    <tr>\n",
       "      <th>0</th>\n",
       "      <td>@115712 I understand. I would like to assist y...</td>\n",
       "      <td>@115712 i understand. i would like to assist y...</td>\n",
       "      <td>115712 i understand i would like to assist you...</td>\n",
       "      <td>115712 understand would like assist would need...</td>\n",
       "    </tr>\n",
       "    <tr>\n",
       "      <th>1</th>\n",
       "      <td>@sprintcare and how do you propose we do that</td>\n",
       "      <td>@sprintcare and how do you propose we do that</td>\n",
       "      <td>sprintcare and how do you propose we do that</td>\n",
       "      <td>sprintcare propose</td>\n",
       "    </tr>\n",
       "    <tr>\n",
       "      <th>2</th>\n",
       "      <td>@sprintcare I have sent several private messag...</td>\n",
       "      <td>@sprintcare i have sent several private messag...</td>\n",
       "      <td>sprintcare i have sent several private message...</td>\n",
       "      <td>sprintcare sent several private messages one r...</td>\n",
       "    </tr>\n",
       "    <tr>\n",
       "      <th>3</th>\n",
       "      <td>@115712 Please send us a Private Message so th...</td>\n",
       "      <td>@115712 please send us a private message so th...</td>\n",
       "      <td>115712 please send us a private message so tha...</td>\n",
       "      <td>115712 please send us private message assist c...</td>\n",
       "    </tr>\n",
       "    <tr>\n",
       "      <th>4</th>\n",
       "      <td>@sprintcare I did.</td>\n",
       "      <td>@sprintcare i did.</td>\n",
       "      <td>sprintcare i did</td>\n",
       "      <td>sprintcare</td>\n",
       "    </tr>\n",
       "  </tbody>\n",
       "</table>\n",
       "</div>"
      ],
      "text/plain": [
       "                                                text  ...                                       text_wo_stop\n",
       "0  @115712 I understand. I would like to assist y...  ...  115712 understand would like assist would need...\n",
       "1      @sprintcare and how do you propose we do that  ...                                 sprintcare propose\n",
       "2  @sprintcare I have sent several private messag...  ...  sprintcare sent several private messages one r...\n",
       "3  @115712 Please send us a Private Message so th...  ...  115712 please send us private message assist c...\n",
       "4                                 @sprintcare I did.  ...                                         sprintcare\n",
       "\n",
       "[5 rows x 4 columns]"
      ]
     },
     "execution_count": 12,
     "metadata": {
      "tags": []
     },
     "output_type": "execute_result"
    }
   ],
   "source": [
    "STOPWORDS = set(stopwords.words('english'))\n",
    "def remove_stopwords(text):\n",
    "    \"\"\"function to remove the stopwords\"\"\"\n",
    "    return \" \".join([word for word in str(text).split() if word not in STOPWORDS])\n",
    "\n",
    "df[\"text_wo_stop\"] = df[\"text_wo_punct\"].apply(lambda text: remove_stopwords(text))\n",
    "df.head()"
   ]
  },
  {
   "cell_type": "markdown",
   "metadata": {
    "id": "x0pBrCQfq83o"
   },
   "source": [
    "4. Removal of Frequent words"
   ]
  },
  {
   "cell_type": "code",
   "execution_count": null,
   "metadata": {
    "colab": {
     "base_uri": "https://localhost:8080/"
    },
    "id": "HwvNyoCCq9VL",
    "outputId": "3782d7a2-c88e-4763-9b09-7f1e2664f0f6"
   },
   "outputs": [
    {
     "data": {
      "text/plain": [
       "[('us', 15280),\n",
       " ('please', 14172),\n",
       " ('dm', 10290),\n",
       " ('help', 9181),\n",
       " ('hi', 8364),\n",
       " ('thanks', 7794),\n",
       " ('get', 7393),\n",
       " ('sorry', 6913),\n",
       " ('amazonhelp', 5916),\n",
       " ('know', 5443)]"
      ]
     },
     "execution_count": 13,
     "metadata": {
      "tags": []
     },
     "output_type": "execute_result"
    }
   ],
   "source": [
    "from collections import Counter\n",
    "cnt = Counter()\n",
    "for text in df[\"text_wo_stop\"].values:\n",
    "    for word in text.split():\n",
    "        cnt[word] += 1\n",
    "        \n",
    "cnt.most_common(10)"
   ]
  },
  {
   "cell_type": "code",
   "execution_count": null,
   "metadata": {
    "colab": {
     "base_uri": "https://localhost:8080/",
     "height": 411
    },
    "id": "QDYqRzI2rFL7",
    "outputId": "6aa32674-8f08-4697-fad3-9319e0d207ac"
   },
   "outputs": [
    {
     "name": "stderr",
     "output_type": "stream",
     "text": [
      "/usr/local/lib/python3.6/dist-packages/ipykernel_launcher.py:6: SettingWithCopyWarning: \n",
      "A value is trying to be set on a copy of a slice from a DataFrame.\n",
      "Try using .loc[row_indexer,col_indexer] = value instead\n",
      "\n",
      "See the caveats in the documentation: https://pandas.pydata.org/pandas-docs/stable/user_guide/indexing.html#returning-a-view-versus-a-copy\n",
      "  \n"
     ]
    },
    {
     "data": {
      "text/html": [
       "<div>\n",
       "<style scoped>\n",
       "    .dataframe tbody tr th:only-of-type {\n",
       "        vertical-align: middle;\n",
       "    }\n",
       "\n",
       "    .dataframe tbody tr th {\n",
       "        vertical-align: top;\n",
       "    }\n",
       "\n",
       "    .dataframe thead th {\n",
       "        text-align: right;\n",
       "    }\n",
       "</style>\n",
       "<table border=\"1\" class=\"dataframe\">\n",
       "  <thead>\n",
       "    <tr style=\"text-align: right;\">\n",
       "      <th></th>\n",
       "      <th>text</th>\n",
       "      <th>text_lower</th>\n",
       "      <th>text_wo_punct</th>\n",
       "      <th>text_wo_stop</th>\n",
       "      <th>text_wo_stopfreq</th>\n",
       "    </tr>\n",
       "  </thead>\n",
       "  <tbody>\n",
       "    <tr>\n",
       "      <th>0</th>\n",
       "      <td>@115712 I understand. I would like to assist y...</td>\n",
       "      <td>@115712 i understand. i would like to assist y...</td>\n",
       "      <td>115712 i understand i would like to assist you...</td>\n",
       "      <td>115712 understand would like assist would need...</td>\n",
       "      <td>115712 understand would like assist would need...</td>\n",
       "    </tr>\n",
       "    <tr>\n",
       "      <th>1</th>\n",
       "      <td>@sprintcare and how do you propose we do that</td>\n",
       "      <td>@sprintcare and how do you propose we do that</td>\n",
       "      <td>sprintcare and how do you propose we do that</td>\n",
       "      <td>sprintcare propose</td>\n",
       "      <td>sprintcare propose</td>\n",
       "    </tr>\n",
       "    <tr>\n",
       "      <th>2</th>\n",
       "      <td>@sprintcare I have sent several private messag...</td>\n",
       "      <td>@sprintcare i have sent several private messag...</td>\n",
       "      <td>sprintcare i have sent several private message...</td>\n",
       "      <td>sprintcare sent several private messages one r...</td>\n",
       "      <td>sprintcare sent several private messages one r...</td>\n",
       "    </tr>\n",
       "    <tr>\n",
       "      <th>3</th>\n",
       "      <td>@115712 Please send us a Private Message so th...</td>\n",
       "      <td>@115712 please send us a private message so th...</td>\n",
       "      <td>115712 please send us a private message so tha...</td>\n",
       "      <td>115712 please send us private message assist c...</td>\n",
       "      <td>115712 send private message assist click ‘mess...</td>\n",
       "    </tr>\n",
       "    <tr>\n",
       "      <th>4</th>\n",
       "      <td>@sprintcare I did.</td>\n",
       "      <td>@sprintcare i did.</td>\n",
       "      <td>sprintcare i did</td>\n",
       "      <td>sprintcare</td>\n",
       "      <td>sprintcare</td>\n",
       "    </tr>\n",
       "  </tbody>\n",
       "</table>\n",
       "</div>"
      ],
      "text/plain": [
       "                                                text  ...                                   text_wo_stopfreq\n",
       "0  @115712 I understand. I would like to assist y...  ...  115712 understand would like assist would need...\n",
       "1      @sprintcare and how do you propose we do that  ...                                 sprintcare propose\n",
       "2  @sprintcare I have sent several private messag...  ...  sprintcare sent several private messages one r...\n",
       "3  @115712 Please send us a Private Message so th...  ...  115712 send private message assist click ‘mess...\n",
       "4                                 @sprintcare I did.  ...                                         sprintcare\n",
       "\n",
       "[5 rows x 5 columns]"
      ]
     },
     "execution_count": 14,
     "metadata": {
      "tags": []
     },
     "output_type": "execute_result"
    }
   ],
   "source": [
    "FREQWORDS = set([w for (w, wc) in cnt.most_common(10)])\n",
    "def remove_freqwords(text):\n",
    "    \"\"\"custom function to remove the frequent words\"\"\"\n",
    "    return \" \".join([word for word in str(text).split() if word not in FREQWORDS])\n",
    "\n",
    "df[\"text_wo_stopfreq\"] = df[\"text_wo_stop\"].apply(lambda text: remove_freqwords(text))\n",
    "df.head()"
   ]
  },
  {
   "cell_type": "markdown",
   "metadata": {
    "id": "bcLbadHAuSrh"
   },
   "source": [
    "5. Removal of Rare words"
   ]
  },
  {
   "cell_type": "code",
   "execution_count": null,
   "metadata": {
    "colab": {
     "base_uri": "https://localhost:8080/",
     "height": 480
    },
    "id": "oxBsoozNrORV",
    "outputId": "d65e370f-238f-4331-f700-bc178fdbd228"
   },
   "outputs": [
    {
     "name": "stdout",
     "output_type": "stream",
     "text": [
      "{'mailtemplate', '7110', '230k', 'therelets', 'httpstcoklebhaiotk', 'phone131027', '144296', '7109', 'httpstcosxccepn7bl', '144295'}\n"
     ]
    },
    {
     "name": "stderr",
     "output_type": "stream",
     "text": [
      "/usr/local/lib/python3.6/dist-packages/ipykernel_launcher.py:11: SettingWithCopyWarning: \n",
      "A value is trying to be set on a copy of a slice from a DataFrame.\n",
      "Try using .loc[row_indexer,col_indexer] = value instead\n",
      "\n",
      "See the caveats in the documentation: https://pandas.pydata.org/pandas-docs/stable/user_guide/indexing.html#returning-a-view-versus-a-copy\n",
      "  # This is added back by InteractiveShellApp.init_path()\n"
     ]
    },
    {
     "data": {
      "text/html": [
       "<div>\n",
       "<style scoped>\n",
       "    .dataframe tbody tr th:only-of-type {\n",
       "        vertical-align: middle;\n",
       "    }\n",
       "\n",
       "    .dataframe tbody tr th {\n",
       "        vertical-align: top;\n",
       "    }\n",
       "\n",
       "    .dataframe thead th {\n",
       "        text-align: right;\n",
       "    }\n",
       "</style>\n",
       "<table border=\"1\" class=\"dataframe\">\n",
       "  <thead>\n",
       "    <tr style=\"text-align: right;\">\n",
       "      <th></th>\n",
       "      <th>text</th>\n",
       "      <th>text_lower</th>\n",
       "      <th>text_wo_punct</th>\n",
       "      <th>text_wo_stop</th>\n",
       "      <th>text_wo_stopfreq</th>\n",
       "      <th>text_wo_stopfreqrare</th>\n",
       "    </tr>\n",
       "  </thead>\n",
       "  <tbody>\n",
       "    <tr>\n",
       "      <th>0</th>\n",
       "      <td>@115712 I understand. I would like to assist y...</td>\n",
       "      <td>@115712 i understand. i would like to assist y...</td>\n",
       "      <td>115712 i understand i would like to assist you...</td>\n",
       "      <td>115712 understand would like assist would need...</td>\n",
       "      <td>115712 understand would like assist would need...</td>\n",
       "      <td>115712 understand would like assist would need...</td>\n",
       "    </tr>\n",
       "    <tr>\n",
       "      <th>1</th>\n",
       "      <td>@sprintcare and how do you propose we do that</td>\n",
       "      <td>@sprintcare and how do you propose we do that</td>\n",
       "      <td>sprintcare and how do you propose we do that</td>\n",
       "      <td>sprintcare propose</td>\n",
       "      <td>sprintcare propose</td>\n",
       "      <td>sprintcare propose</td>\n",
       "    </tr>\n",
       "    <tr>\n",
       "      <th>2</th>\n",
       "      <td>@sprintcare I have sent several private messag...</td>\n",
       "      <td>@sprintcare i have sent several private messag...</td>\n",
       "      <td>sprintcare i have sent several private message...</td>\n",
       "      <td>sprintcare sent several private messages one r...</td>\n",
       "      <td>sprintcare sent several private messages one r...</td>\n",
       "      <td>sprintcare sent several private messages one r...</td>\n",
       "    </tr>\n",
       "    <tr>\n",
       "      <th>3</th>\n",
       "      <td>@115712 Please send us a Private Message so th...</td>\n",
       "      <td>@115712 please send us a private message so th...</td>\n",
       "      <td>115712 please send us a private message so tha...</td>\n",
       "      <td>115712 please send us private message assist c...</td>\n",
       "      <td>115712 send private message assist click ‘mess...</td>\n",
       "      <td>115712 send private message assist click ‘mess...</td>\n",
       "    </tr>\n",
       "    <tr>\n",
       "      <th>4</th>\n",
       "      <td>@sprintcare I did.</td>\n",
       "      <td>@sprintcare i did.</td>\n",
       "      <td>sprintcare i did</td>\n",
       "      <td>sprintcare</td>\n",
       "      <td>sprintcare</td>\n",
       "      <td>sprintcare</td>\n",
       "    </tr>\n",
       "  </tbody>\n",
       "</table>\n",
       "</div>"
      ],
      "text/plain": [
       "                                                text  ...                               text_wo_stopfreqrare\n",
       "0  @115712 I understand. I would like to assist y...  ...  115712 understand would like assist would need...\n",
       "1      @sprintcare and how do you propose we do that  ...                                 sprintcare propose\n",
       "2  @sprintcare I have sent several private messag...  ...  sprintcare sent several private messages one r...\n",
       "3  @115712 Please send us a Private Message so th...  ...  115712 send private message assist click ‘mess...\n",
       "4                                 @sprintcare I did.  ...                                         sprintcare\n",
       "\n",
       "[5 rows x 6 columns]"
      ]
     },
     "execution_count": 15,
     "metadata": {
      "tags": []
     },
     "output_type": "execute_result"
    }
   ],
   "source": [
    "# Drop the two columns which are no more needed \n",
    "# df.drop([\"text_wo_punct\", \"text_wo_stop\"], axis=1, inplace=True)\n",
    "\n",
    "n_rare_words = 10\n",
    "RAREWORDS = set([w for (w, wc) in cnt.most_common()[:-n_rare_words-1:-1]])\n",
    "print(RAREWORDS)\n",
    "def remove_rarewords(text):\n",
    "    \"\"\"custom function to remove the rare words\"\"\"\n",
    "    return \" \".join([word for word in str(text).split() if word not in RAREWORDS])\n",
    "\n",
    "df[\"text_wo_stopfreqrare\"] = df[\"text_wo_stopfreq\"].apply(lambda text: remove_rarewords(text))\n",
    "df.head()"
   ]
  },
  {
   "cell_type": "markdown",
   "metadata": {
    "id": "r3fYocr8uWED"
   },
   "source": [
    "6. Stemming"
   ]
  },
  {
   "cell_type": "code",
   "execution_count": null,
   "metadata": {
    "colab": {
     "base_uri": "https://localhost:8080/",
     "height": 408
    },
    "id": "Of4NXNDLrSJz",
    "outputId": "0e885195-4112-493b-aad3-01ddc609eaf4"
   },
   "outputs": [
    {
     "data": {
      "text/html": [
       "<div>\n",
       "<style scoped>\n",
       "    .dataframe tbody tr th:only-of-type {\n",
       "        vertical-align: middle;\n",
       "    }\n",
       "\n",
       "    .dataframe tbody tr th {\n",
       "        vertical-align: top;\n",
       "    }\n",
       "\n",
       "    .dataframe thead th {\n",
       "        text-align: right;\n",
       "    }\n",
       "</style>\n",
       "<table border=\"1\" class=\"dataframe\">\n",
       "  <thead>\n",
       "    <tr style=\"text-align: right;\">\n",
       "      <th></th>\n",
       "      <th>text</th>\n",
       "      <th>text_lower</th>\n",
       "      <th>text_wo_punct</th>\n",
       "      <th>text_wo_stop</th>\n",
       "      <th>text_wo_stopfreq</th>\n",
       "      <th>text_wo_stopfreqrare</th>\n",
       "      <th>text_stemmed</th>\n",
       "    </tr>\n",
       "  </thead>\n",
       "  <tbody>\n",
       "    <tr>\n",
       "      <th>0</th>\n",
       "      <td>@115712 I understand. I would like to assist y...</td>\n",
       "      <td>@115712 i understand. i would like to assist y...</td>\n",
       "      <td>115712 i understand i would like to assist you...</td>\n",
       "      <td>115712 understand would like assist would need...</td>\n",
       "      <td>115712 understand would like assist would need...</td>\n",
       "      <td>115712 understand would like assist would need...</td>\n",
       "      <td>115712 understand would like assist would need...</td>\n",
       "    </tr>\n",
       "    <tr>\n",
       "      <th>1</th>\n",
       "      <td>@sprintcare and how do you propose we do that</td>\n",
       "      <td>@sprintcare and how do you propose we do that</td>\n",
       "      <td>sprintcare and how do you propose we do that</td>\n",
       "      <td>sprintcare propose</td>\n",
       "      <td>sprintcare propose</td>\n",
       "      <td>sprintcare propose</td>\n",
       "      <td>sprintcar propos</td>\n",
       "    </tr>\n",
       "    <tr>\n",
       "      <th>2</th>\n",
       "      <td>@sprintcare I have sent several private messag...</td>\n",
       "      <td>@sprintcare i have sent several private messag...</td>\n",
       "      <td>sprintcare i have sent several private message...</td>\n",
       "      <td>sprintcare sent several private messages one r...</td>\n",
       "      <td>sprintcare sent several private messages one r...</td>\n",
       "      <td>sprintcare sent several private messages one r...</td>\n",
       "      <td>sprintcar sent sever privat messag one respond...</td>\n",
       "    </tr>\n",
       "    <tr>\n",
       "      <th>3</th>\n",
       "      <td>@115712 Please send us a Private Message so th...</td>\n",
       "      <td>@115712 please send us a private message so th...</td>\n",
       "      <td>115712 please send us a private message so tha...</td>\n",
       "      <td>115712 please send us private message assist c...</td>\n",
       "      <td>115712 send private message assist click ‘mess...</td>\n",
       "      <td>115712 send private message assist click ‘mess...</td>\n",
       "      <td>115712 send privat messag assist click messag ...</td>\n",
       "    </tr>\n",
       "    <tr>\n",
       "      <th>4</th>\n",
       "      <td>@sprintcare I did.</td>\n",
       "      <td>@sprintcare i did.</td>\n",
       "      <td>sprintcare i did</td>\n",
       "      <td>sprintcare</td>\n",
       "      <td>sprintcare</td>\n",
       "      <td>sprintcare</td>\n",
       "      <td>sprintcar</td>\n",
       "    </tr>\n",
       "  </tbody>\n",
       "</table>\n",
       "</div>"
      ],
      "text/plain": [
       "                                                text  ...                                       text_stemmed\n",
       "0  @115712 I understand. I would like to assist y...  ...  115712 understand would like assist would need...\n",
       "1      @sprintcare and how do you propose we do that  ...                                   sprintcar propos\n",
       "2  @sprintcare I have sent several private messag...  ...  sprintcar sent sever privat messag one respond...\n",
       "3  @115712 Please send us a Private Message so th...  ...  115712 send privat messag assist click messag ...\n",
       "4                                 @sprintcare I did.  ...                                          sprintcar\n",
       "\n",
       "[5 rows x 7 columns]"
      ]
     },
     "execution_count": 16,
     "metadata": {
      "tags": []
     },
     "output_type": "execute_result"
    }
   ],
   "source": [
    "from nltk.stem.snowball import SnowballStemmer\n",
    "\n",
    "# Drop the two columns \n",
    "# df.drop([\"text_wo_stopfreq\", \"text_wo_stopfreqrare\"], axis=1, inplace=True) \n",
    "\n",
    "stemmer = SnowballStemmer(\"english\")\n",
    "def stem_words(text):\n",
    "    return \" \".join([stemmer.stem(word) for word in text.split()])\n",
    "\n",
    "df[\"text_stemmed\"] = df[\"text_wo_stopfreq\"].apply(lambda text: stem_words(text))\n",
    "df.head()"
   ]
  },
  {
   "cell_type": "markdown",
   "metadata": {
    "id": "4gH9w9znukBp"
   },
   "source": [
    "7. Lemmatization"
   ]
  },
  {
   "cell_type": "code",
   "execution_count": null,
   "metadata": {
    "colab": {
     "base_uri": "https://localhost:8080/"
    },
    "id": "-4BK0nv-u1EC",
    "outputId": "cd757523-aded-4e02-9e4e-f27bd36d629b"
   },
   "outputs": [
    {
     "name": "stdout",
     "output_type": "stream",
     "text": [
      "[nltk_data] Downloading package wordnet to /root/nltk_data...\n",
      "[nltk_data]   Unzipping corpora/wordnet.zip.\n"
     ]
    },
    {
     "data": {
      "text/plain": [
       "True"
      ]
     },
     "execution_count": 17,
     "metadata": {
      "tags": []
     },
     "output_type": "execute_result"
    }
   ],
   "source": [
    "nltk.download('wordnet')"
   ]
  },
  {
   "cell_type": "code",
   "execution_count": null,
   "metadata": {
    "colab": {
     "base_uri": "https://localhost:8080/",
     "height": 477
    },
    "id": "zlzM9fH7rYuo",
    "outputId": "a63b91ee-ba57-425d-caf5-bfac455f8e1f"
   },
   "outputs": [
    {
     "data": {
      "text/html": [
       "<div>\n",
       "<style scoped>\n",
       "    .dataframe tbody tr th:only-of-type {\n",
       "        vertical-align: middle;\n",
       "    }\n",
       "\n",
       "    .dataframe tbody tr th {\n",
       "        vertical-align: top;\n",
       "    }\n",
       "\n",
       "    .dataframe thead th {\n",
       "        text-align: right;\n",
       "    }\n",
       "</style>\n",
       "<table border=\"1\" class=\"dataframe\">\n",
       "  <thead>\n",
       "    <tr style=\"text-align: right;\">\n",
       "      <th></th>\n",
       "      <th>text</th>\n",
       "      <th>text_lower</th>\n",
       "      <th>text_wo_punct</th>\n",
       "      <th>text_wo_stop</th>\n",
       "      <th>text_wo_stopfreq</th>\n",
       "      <th>text_wo_stopfreqrare</th>\n",
       "      <th>text_stemmed</th>\n",
       "      <th>text_lemmatized</th>\n",
       "    </tr>\n",
       "  </thead>\n",
       "  <tbody>\n",
       "    <tr>\n",
       "      <th>0</th>\n",
       "      <td>@115712 I understand. I would like to assist y...</td>\n",
       "      <td>@115712 i understand. i would like to assist y...</td>\n",
       "      <td>115712 i understand i would like to assist you...</td>\n",
       "      <td>115712 understand would like assist would need...</td>\n",
       "      <td>115712 understand would like assist would need...</td>\n",
       "      <td>115712 understand would like assist would need...</td>\n",
       "      <td>115712 understand would like assist would need...</td>\n",
       "      <td>115712 i understand i would like to assist you...</td>\n",
       "    </tr>\n",
       "    <tr>\n",
       "      <th>1</th>\n",
       "      <td>@sprintcare and how do you propose we do that</td>\n",
       "      <td>@sprintcare and how do you propose we do that</td>\n",
       "      <td>sprintcare and how do you propose we do that</td>\n",
       "      <td>sprintcare propose</td>\n",
       "      <td>sprintcare propose</td>\n",
       "      <td>sprintcare propose</td>\n",
       "      <td>sprintcar propos</td>\n",
       "      <td>sprintcare and how do you propose we do that</td>\n",
       "    </tr>\n",
       "    <tr>\n",
       "      <th>2</th>\n",
       "      <td>@sprintcare I have sent several private messag...</td>\n",
       "      <td>@sprintcare i have sent several private messag...</td>\n",
       "      <td>sprintcare i have sent several private message...</td>\n",
       "      <td>sprintcare sent several private messages one r...</td>\n",
       "      <td>sprintcare sent several private messages one r...</td>\n",
       "      <td>sprintcare sent several private messages one r...</td>\n",
       "      <td>sprintcar sent sever privat messag one respond...</td>\n",
       "      <td>sprintcare i have sent several private message...</td>\n",
       "    </tr>\n",
       "    <tr>\n",
       "      <th>3</th>\n",
       "      <td>@115712 Please send us a Private Message so th...</td>\n",
       "      <td>@115712 please send us a private message so th...</td>\n",
       "      <td>115712 please send us a private message so tha...</td>\n",
       "      <td>115712 please send us private message assist c...</td>\n",
       "      <td>115712 send private message assist click ‘mess...</td>\n",
       "      <td>115712 send private message assist click ‘mess...</td>\n",
       "      <td>115712 send privat messag assist click messag ...</td>\n",
       "      <td>115712 please send u a private message so that...</td>\n",
       "    </tr>\n",
       "    <tr>\n",
       "      <th>4</th>\n",
       "      <td>@sprintcare I did.</td>\n",
       "      <td>@sprintcare i did.</td>\n",
       "      <td>sprintcare i did</td>\n",
       "      <td>sprintcare</td>\n",
       "      <td>sprintcare</td>\n",
       "      <td>sprintcare</td>\n",
       "      <td>sprintcar</td>\n",
       "      <td>sprintcare i did</td>\n",
       "    </tr>\n",
       "  </tbody>\n",
       "</table>\n",
       "</div>"
      ],
      "text/plain": [
       "                                                text  ...                                    text_lemmatized\n",
       "0  @115712 I understand. I would like to assist y...  ...  115712 i understand i would like to assist you...\n",
       "1      @sprintcare and how do you propose we do that  ...       sprintcare and how do you propose we do that\n",
       "2  @sprintcare I have sent several private messag...  ...  sprintcare i have sent several private message...\n",
       "3  @115712 Please send us a Private Message so th...  ...  115712 please send u a private message so that...\n",
       "4                                 @sprintcare I did.  ...                                   sprintcare i did\n",
       "\n",
       "[5 rows x 8 columns]"
      ]
     },
     "execution_count": 19,
     "metadata": {
      "tags": []
     },
     "output_type": "execute_result"
    }
   ],
   "source": [
    "from nltk.stem import WordNetLemmatizer\n",
    "\n",
    "lemmatizer = WordNetLemmatizer()\n",
    "def lemmatize_words(text):\n",
    "    return \" \".join([lemmatizer.lemmatize(word) for word in text.split()])\n",
    "\n",
    "df[\"text_lemmatized\"] = df[\"text_wo_punct\"].apply(lambda text: lemmatize_words(text))\n",
    "df.head()"
   ]
  },
  {
   "cell_type": "code",
   "execution_count": null,
   "metadata": {
    "colab": {
     "base_uri": "https://localhost:8080/",
     "height": 1000
    },
    "id": "KWO0SOS4oBCo",
    "outputId": "0ddeeb1d-308a-4b8d-bba5-1e3ad2c4b690"
   },
   "outputs": [
    {
     "data": {
      "text/html": [
       "<div>\n",
       "<style scoped>\n",
       "    .dataframe tbody tr th:only-of-type {\n",
       "        vertical-align: middle;\n",
       "    }\n",
       "\n",
       "    .dataframe tbody tr th {\n",
       "        vertical-align: top;\n",
       "    }\n",
       "\n",
       "    .dataframe thead th {\n",
       "        text-align: right;\n",
       "    }\n",
       "</style>\n",
       "<table border=\"1\" class=\"dataframe\">\n",
       "  <thead>\n",
       "    <tr style=\"text-align: right;\">\n",
       "      <th></th>\n",
       "      <th>text</th>\n",
       "      <th>text_lower</th>\n",
       "      <th>text_wo_punct</th>\n",
       "      <th>text_wo_stop</th>\n",
       "      <th>text_wo_stopfreq</th>\n",
       "      <th>text_wo_stopfreqrare</th>\n",
       "      <th>text_stemmed</th>\n",
       "      <th>text_lemmatized</th>\n",
       "    </tr>\n",
       "  </thead>\n",
       "  <tbody>\n",
       "    <tr>\n",
       "      <th>0</th>\n",
       "      <td>@115712 I understand. I would like to assist y...</td>\n",
       "      <td>@115712 i understand. i would like to assist y...</td>\n",
       "      <td>115712 i understand i would like to assist you...</td>\n",
       "      <td>115712 understand would like assist would need...</td>\n",
       "      <td>115712 understand would like assist would need...</td>\n",
       "      <td>115712 understand would like assist would need...</td>\n",
       "      <td>115712 understand would like assist would need...</td>\n",
       "      <td>115712 i understand i would like to assist you...</td>\n",
       "    </tr>\n",
       "    <tr>\n",
       "      <th>1</th>\n",
       "      <td>@sprintcare and how do you propose we do that</td>\n",
       "      <td>@sprintcare and how do you propose we do that</td>\n",
       "      <td>sprintcare and how do you propose we do that</td>\n",
       "      <td>sprintcare propose</td>\n",
       "      <td>sprintcare propose</td>\n",
       "      <td>sprintcare propose</td>\n",
       "      <td>sprintcar propos</td>\n",
       "      <td>sprintcare and how do you propose we do that</td>\n",
       "    </tr>\n",
       "    <tr>\n",
       "      <th>2</th>\n",
       "      <td>@sprintcare I have sent several private messag...</td>\n",
       "      <td>@sprintcare i have sent several private messag...</td>\n",
       "      <td>sprintcare i have sent several private message...</td>\n",
       "      <td>sprintcare sent several private messages one r...</td>\n",
       "      <td>sprintcare sent several private messages one r...</td>\n",
       "      <td>sprintcare sent several private messages one r...</td>\n",
       "      <td>sprintcar sent sever privat messag one respond...</td>\n",
       "      <td>sprintcare i have sent several private message...</td>\n",
       "    </tr>\n",
       "    <tr>\n",
       "      <th>3</th>\n",
       "      <td>@115712 Please send us a Private Message so th...</td>\n",
       "      <td>@115712 please send us a private message so th...</td>\n",
       "      <td>115712 please send us a private message so tha...</td>\n",
       "      <td>115712 please send us private message assist c...</td>\n",
       "      <td>115712 send private message assist click ‘mess...</td>\n",
       "      <td>115712 send private message assist click ‘mess...</td>\n",
       "      <td>115712 send privat messag assist click messag ...</td>\n",
       "      <td>115712 please send u a private message so that...</td>\n",
       "    </tr>\n",
       "    <tr>\n",
       "      <th>4</th>\n",
       "      <td>@sprintcare I did.</td>\n",
       "      <td>@sprintcare i did.</td>\n",
       "      <td>sprintcare i did</td>\n",
       "      <td>sprintcare</td>\n",
       "      <td>sprintcare</td>\n",
       "      <td>sprintcare</td>\n",
       "      <td>sprintcar</td>\n",
       "      <td>sprintcare i did</td>\n",
       "    </tr>\n",
       "    <tr>\n",
       "      <th>5</th>\n",
       "      <td>@115712 Can you please send us a private messa...</td>\n",
       "      <td>@115712 can you please send us a private messa...</td>\n",
       "      <td>115712 can you please send us a private messag...</td>\n",
       "      <td>115712 please send us private message gain det...</td>\n",
       "      <td>115712 send private message gain details account</td>\n",
       "      <td>115712 send private message gain details account</td>\n",
       "      <td>115712 send privat messag gain detail account</td>\n",
       "      <td>115712 can you please send u a private message...</td>\n",
       "    </tr>\n",
       "    <tr>\n",
       "      <th>6</th>\n",
       "      <td>@sprintcare is the worst customer service</td>\n",
       "      <td>@sprintcare is the worst customer service</td>\n",
       "      <td>sprintcare is the worst customer service</td>\n",
       "      <td>sprintcare worst customer service</td>\n",
       "      <td>sprintcare worst customer service</td>\n",
       "      <td>sprintcare worst customer service</td>\n",
       "      <td>sprintcar worst custom servic</td>\n",
       "      <td>sprintcare is the worst customer service</td>\n",
       "    </tr>\n",
       "    <tr>\n",
       "      <th>7</th>\n",
       "      <td>@115713 This is saddening to hear. Please shoo...</td>\n",
       "      <td>@115713 this is saddening to hear. please shoo...</td>\n",
       "      <td>115713 this is saddening to hear please shoot ...</td>\n",
       "      <td>115713 saddening hear please shoot us dm look kc</td>\n",
       "      <td>115713 saddening hear shoot look kc</td>\n",
       "      <td>115713 saddening hear shoot look kc</td>\n",
       "      <td>115713 sadden hear shoot look kc</td>\n",
       "      <td>115713 this is saddening to hear please shoot ...</td>\n",
       "    </tr>\n",
       "    <tr>\n",
       "      <th>8</th>\n",
       "      <td>@sprintcare You gonna magically change your co...</td>\n",
       "      <td>@sprintcare you gonna magically change your co...</td>\n",
       "      <td>sprintcare you gonna magically change your con...</td>\n",
       "      <td>sprintcare gonna magically change connectivity...</td>\n",
       "      <td>sprintcare gonna magically change connectivity...</td>\n",
       "      <td>sprintcare gonna magically change connectivity...</td>\n",
       "      <td>sprintcar gonna magic chang connect whole fami...</td>\n",
       "      <td>sprintcare you gonna magically change your con...</td>\n",
       "    </tr>\n",
       "    <tr>\n",
       "      <th>9</th>\n",
       "      <td>@115713 We understand your concerns and we'd l...</td>\n",
       "      <td>@115713 we understand your concerns and we'd l...</td>\n",
       "      <td>115713 we understand your concerns and wed lik...</td>\n",
       "      <td>115713 understand concerns wed like please sen...</td>\n",
       "      <td>115713 understand concerns wed like send direc...</td>\n",
       "      <td>115713 understand concerns wed like send direc...</td>\n",
       "      <td>115713 understand concern wed like send direct...</td>\n",
       "      <td>115713 we understand your concern and wed like...</td>\n",
       "    </tr>\n",
       "    <tr>\n",
       "      <th>10</th>\n",
       "      <td>@sprintcare Since I signed up with you....Sinc...</td>\n",
       "      <td>@sprintcare since i signed up with you....sinc...</td>\n",
       "      <td>sprintcare since i signed up with yousince day 1</td>\n",
       "      <td>sprintcare since signed yousince day 1</td>\n",
       "      <td>sprintcare since signed yousince day 1</td>\n",
       "      <td>sprintcare since signed yousince day 1</td>\n",
       "      <td>sprintcar sinc sign yousinc day 1</td>\n",
       "      <td>sprintcare since i signed up with yousince day 1</td>\n",
       "    </tr>\n",
       "    <tr>\n",
       "      <th>11</th>\n",
       "      <td>@115713 H there! We'd definitely like to work ...</td>\n",
       "      <td>@115713 h there! we'd definitely like to work ...</td>\n",
       "      <td>115713 h there wed definitely like to work wit...</td>\n",
       "      <td>115713 h wed definitely like work long experie...</td>\n",
       "      <td>115713 h wed definitely like work long experie...</td>\n",
       "      <td>115713 h wed definitely like work long experie...</td>\n",
       "      <td>115713 h wed definit like work long experienc ...</td>\n",
       "      <td>115713 h there wed definitely like to work wit...</td>\n",
       "    </tr>\n",
       "    <tr>\n",
       "      <th>12</th>\n",
       "      <td>@115714 y’all lie about your “great” connectio...</td>\n",
       "      <td>@115714 y’all lie about your “great” connectio...</td>\n",
       "      <td>115714 y’all lie about your “great” connection...</td>\n",
       "      <td>115714 y’all lie “great” connection 5 bars lte...</td>\n",
       "      <td>115714 y’all lie “great” connection 5 bars lte...</td>\n",
       "      <td>115714 y’all lie “great” connection 5 bars lte...</td>\n",
       "      <td>115714 y'all lie “great” connect 5 bar lte sti...</td>\n",
       "      <td>115714 y’all lie about your “great” connection...</td>\n",
       "    </tr>\n",
       "    <tr>\n",
       "      <th>13</th>\n",
       "      <td>@115715 Please send me a private message so th...</td>\n",
       "      <td>@115715 please send me a private message so th...</td>\n",
       "      <td>115715 please send me a private message so tha...</td>\n",
       "      <td>115715 please send private message send link a...</td>\n",
       "      <td>115715 send private message send link access a...</td>\n",
       "      <td>115715 send private message send link access a...</td>\n",
       "      <td>115715 send privat messag send link access acc...</td>\n",
       "      <td>115715 please send me a private message so tha...</td>\n",
       "    </tr>\n",
       "    <tr>\n",
       "      <th>14</th>\n",
       "      <td>@115714 whenever I contact customer support, t...</td>\n",
       "      <td>@115714 whenever i contact customer support, t...</td>\n",
       "      <td>115714 whenever i contact customer support the...</td>\n",
       "      <td>115714 whenever contact customer support tell ...</td>\n",
       "      <td>115714 whenever contact customer support tell ...</td>\n",
       "      <td>115714 whenever contact customer support tell ...</td>\n",
       "      <td>115714 whenev contact custom support tell shor...</td>\n",
       "      <td>115714 whenever i contact customer support the...</td>\n",
       "    </tr>\n",
       "    <tr>\n",
       "      <th>15</th>\n",
       "      <td>@115716 What information is incorrect? ^JK</td>\n",
       "      <td>@115716 what information is incorrect? ^jk</td>\n",
       "      <td>115716 what information is incorrect jk</td>\n",
       "      <td>115716 information incorrect jk</td>\n",
       "      <td>115716 information incorrect jk</td>\n",
       "      <td>115716 information incorrect jk</td>\n",
       "      <td>115716 inform incorrect jk</td>\n",
       "      <td>115716 what information is incorrect jk</td>\n",
       "    </tr>\n",
       "    <tr>\n",
       "      <th>16</th>\n",
       "      <td>@Ask_Spectrum Would you like me to email you a...</td>\n",
       "      <td>@ask_spectrum would you like me to email you a...</td>\n",
       "      <td>askspectrum would you like me to email you a c...</td>\n",
       "      <td>askspectrum would like email copy one since sp...</td>\n",
       "      <td>askspectrum would like email copy one since sp...</td>\n",
       "      <td>askspectrum would like email copy one since sp...</td>\n",
       "      <td>askspectrum would like email copi one sinc spe...</td>\n",
       "      <td>askspectrum would you like me to email you a c...</td>\n",
       "    </tr>\n",
       "    <tr>\n",
       "      <th>17</th>\n",
       "      <td>@115716 Our department is part of the corporat...</td>\n",
       "      <td>@115716 our department is part of the corporat...</td>\n",
       "      <td>115716 our department is part of the corporate...</td>\n",
       "      <td>115716 department part corporate office youre ...</td>\n",
       "      <td>115716 department part corporate office youre ...</td>\n",
       "      <td>115716 department part corporate office youre ...</td>\n",
       "      <td>115716 depart part corpor offic your particula...</td>\n",
       "      <td>115716 our department is part of the corporate...</td>\n",
       "    </tr>\n",
       "    <tr>\n",
       "      <th>18</th>\n",
       "      <td>@Ask_Spectrum I received this from your corpor...</td>\n",
       "      <td>@ask_spectrum i received this from your corpor...</td>\n",
       "      <td>askspectrum i received this from your corporat...</td>\n",
       "      <td>askspectrum received corporate office would li...</td>\n",
       "      <td>askspectrum received corporate office would li...</td>\n",
       "      <td>askspectrum received corporate office would li...</td>\n",
       "      <td>askspectrum receiv corpor offic would like copi</td>\n",
       "      <td>askspectrum i received this from your corporat...</td>\n",
       "    </tr>\n",
       "    <tr>\n",
       "      <th>19</th>\n",
       "      <td>@115716 No thank you. ^JK</td>\n",
       "      <td>@115716 no thank you. ^jk</td>\n",
       "      <td>115716 no thank you jk</td>\n",
       "      <td>115716 thank jk</td>\n",
       "      <td>115716 thank jk</td>\n",
       "      <td>115716 thank jk</td>\n",
       "      <td>115716 thank jk</td>\n",
       "      <td>115716 no thank you jk</td>\n",
       "    </tr>\n",
       "    <tr>\n",
       "      <th>20</th>\n",
       "      <td>@Ask_Spectrum The correct way to do it is via ...</td>\n",
       "      <td>@ask_spectrum the correct way to do it is via ...</td>\n",
       "      <td>askspectrum the correct way to do it is via an...</td>\n",
       "      <td>askspectrum correct way via ocs account takeov...</td>\n",
       "      <td>askspectrum correct way via ocs account takeov...</td>\n",
       "      <td>askspectrum correct way via ocs account takeov...</td>\n",
       "      <td>askspectrum correct way via oc account takeov ...</td>\n",
       "      <td>askspectrum the correct way to do it is via an...</td>\n",
       "    </tr>\n",
       "    <tr>\n",
       "      <th>21</th>\n",
       "      <td>@Ask_Spectrum That is INCORRECT information I ...</td>\n",
       "      <td>@ask_spectrum that is incorrect information i ...</td>\n",
       "      <td>askspectrum that is incorrect information i ha...</td>\n",
       "      <td>askspectrum incorrect information form front f...</td>\n",
       "      <td>askspectrum incorrect information form front f...</td>\n",
       "      <td>askspectrum incorrect information form front f...</td>\n",
       "      <td>askspectrum incorrect inform form front fax ov...</td>\n",
       "      <td>askspectrum that is incorrect information i ha...</td>\n",
       "    </tr>\n",
       "    <tr>\n",
       "      <th>22</th>\n",
       "      <td>@115716 The information pertaining to the acco...</td>\n",
       "      <td>@115716 the information pertaining to the acco...</td>\n",
       "      <td>115716 the information pertaining to the accou...</td>\n",
       "      <td>115716 information pertaining account assumpti...</td>\n",
       "      <td>115716 information pertaining account assumpti...</td>\n",
       "      <td>115716 information pertaining account assumpti...</td>\n",
       "      <td>115716 inform pertain account assumpt correct ...</td>\n",
       "      <td>115716 the information pertaining to the accou...</td>\n",
       "    </tr>\n",
       "    <tr>\n",
       "      <th>23</th>\n",
       "      <td>actually that's a broken link you sent me and ...</td>\n",
       "      <td>actually that's a broken link you sent me and ...</td>\n",
       "      <td>actually thats a broken link you sent me and i...</td>\n",
       "      <td>actually thats broken link sent incorrect info...</td>\n",
       "      <td>actually thats broken link sent incorrect info...</td>\n",
       "      <td>actually thats broken link sent incorrect info...</td>\n",
       "      <td>actual that broken link sent incorrect inform ...</td>\n",
       "      <td>actually thats a broken link you sent me and i...</td>\n",
       "    </tr>\n",
       "    <tr>\n",
       "      <th>24</th>\n",
       "      <td>@115717 Hello, My apologies for any frustratio...</td>\n",
       "      <td>@115717 hello, my apologies for any frustratio...</td>\n",
       "      <td>115717 hello my apologies for any frustrations...</td>\n",
       "      <td>115717 hello apologies frustrations inconvenie...</td>\n",
       "      <td>115717 hello apologies frustrations inconvenie...</td>\n",
       "      <td>115717 hello apologies frustrations inconvenie...</td>\n",
       "      <td>115717 hello apolog frustrat inconveni i'd hap...</td>\n",
       "      <td>115717 hello my apology for any frustration or...</td>\n",
       "    </tr>\n",
       "  </tbody>\n",
       "</table>\n",
       "</div>"
      ],
      "text/plain": [
       "                                                 text  ...                                    text_lemmatized\n",
       "0   @115712 I understand. I would like to assist y...  ...  115712 i understand i would like to assist you...\n",
       "1       @sprintcare and how do you propose we do that  ...       sprintcare and how do you propose we do that\n",
       "2   @sprintcare I have sent several private messag...  ...  sprintcare i have sent several private message...\n",
       "3   @115712 Please send us a Private Message so th...  ...  115712 please send u a private message so that...\n",
       "4                                  @sprintcare I did.  ...                                   sprintcare i did\n",
       "5   @115712 Can you please send us a private messa...  ...  115712 can you please send u a private message...\n",
       "6           @sprintcare is the worst customer service  ...           sprintcare is the worst customer service\n",
       "7   @115713 This is saddening to hear. Please shoo...  ...  115713 this is saddening to hear please shoot ...\n",
       "8   @sprintcare You gonna magically change your co...  ...  sprintcare you gonna magically change your con...\n",
       "9   @115713 We understand your concerns and we'd l...  ...  115713 we understand your concern and wed like...\n",
       "10  @sprintcare Since I signed up with you....Sinc...  ...   sprintcare since i signed up with yousince day 1\n",
       "11  @115713 H there! We'd definitely like to work ...  ...  115713 h there wed definitely like to work wit...\n",
       "12  @115714 y’all lie about your “great” connectio...  ...  115714 y’all lie about your “great” connection...\n",
       "13  @115715 Please send me a private message so th...  ...  115715 please send me a private message so tha...\n",
       "14  @115714 whenever I contact customer support, t...  ...  115714 whenever i contact customer support the...\n",
       "15         @115716 What information is incorrect? ^JK  ...            115716 what information is incorrect jk\n",
       "16  @Ask_Spectrum Would you like me to email you a...  ...  askspectrum would you like me to email you a c...\n",
       "17  @115716 Our department is part of the corporat...  ...  115716 our department is part of the corporate...\n",
       "18  @Ask_Spectrum I received this from your corpor...  ...  askspectrum i received this from your corporat...\n",
       "19                          @115716 No thank you. ^JK  ...                             115716 no thank you jk\n",
       "20  @Ask_Spectrum The correct way to do it is via ...  ...  askspectrum the correct way to do it is via an...\n",
       "21  @Ask_Spectrum That is INCORRECT information I ...  ...  askspectrum that is incorrect information i ha...\n",
       "22  @115716 The information pertaining to the acco...  ...  115716 the information pertaining to the accou...\n",
       "23  actually that's a broken link you sent me and ...  ...  actually thats a broken link you sent me and i...\n",
       "24  @115717 Hello, My apologies for any frustratio...  ...  115717 hello my apology for any frustration or...\n",
       "\n",
       "[25 rows x 8 columns]"
      ]
     },
     "execution_count": 20,
     "metadata": {
      "tags": []
     },
     "output_type": "execute_result"
    }
   ],
   "source": [
    "df.head(25)"
   ]
  },
  {
   "cell_type": "code",
   "execution_count": null,
   "metadata": {
    "colab": {
     "base_uri": "https://localhost:8080/",
     "height": 35
    },
    "id": "w9wGjf8trgP6",
    "outputId": "d59821ea-8ed3-4afa-c88c-380cb646af83"
   },
   "outputs": [
    {
     "data": {
      "application/vnd.google.colaboratory.intrinsic+json": {
       "type": "string"
      },
      "text/plain": [
       "'running'"
      ]
     },
     "execution_count": 21,
     "metadata": {
      "tags": []
     },
     "output_type": "execute_result"
    }
   ],
   "source": [
    "lemmatizer.lemmatize(\"running\")"
   ]
  },
  {
   "cell_type": "code",
   "execution_count": null,
   "metadata": {
    "colab": {
     "base_uri": "https://localhost:8080/",
     "height": 35
    },
    "id": "1GAFHCDrrjBm",
    "outputId": "85229168-e21f-4df7-be0c-656776d34537"
   },
   "outputs": [
    {
     "data": {
      "application/vnd.google.colaboratory.intrinsic+json": {
       "type": "string"
      },
      "text/plain": [
       "'run'"
      ]
     },
     "execution_count": 22,
     "metadata": {
      "tags": []
     },
     "output_type": "execute_result"
    }
   ],
   "source": [
    "lemmatizer.lemmatize(\"running\", \"v\") # v for verb"
   ]
  },
  {
   "cell_type": "code",
   "execution_count": null,
   "metadata": {
    "colab": {
     "base_uri": "https://localhost:8080/"
    },
    "id": "7fg3drLHrlN2",
    "outputId": "036901d7-4f1f-47cb-dfc9-a0ad68bc03bd"
   },
   "outputs": [
    {
     "name": "stdout",
     "output_type": "stream",
     "text": [
      "Word is : stripes\n",
      "Lemma result for verb :  strip\n",
      "Lemma result for noun :  stripe\n"
     ]
    }
   ],
   "source": [
    "print(\"Word is : stripes\")\n",
    "print(\"Lemma result for verb : \",lemmatizer.lemmatize(\"stripes\", 'v'))\n",
    "print(\"Lemma result for noun : \",lemmatizer.lemmatize(\"stripes\", 'n'))"
   ]
  },
  {
   "cell_type": "code",
   "execution_count": null,
   "metadata": {
    "colab": {
     "base_uri": "https://localhost:8080/"
    },
    "id": "M8VACMDIvCDC",
    "outputId": "1c6bb57d-3714-45fd-a6cd-e3e403e16704"
   },
   "outputs": [
    {
     "name": "stdout",
     "output_type": "stream",
     "text": [
      "[nltk_data] Downloading package averaged_perceptron_tagger to\n",
      "[nltk_data]     /root/nltk_data...\n",
      "[nltk_data]   Unzipping taggers/averaged_perceptron_tagger.zip.\n"
     ]
    },
    {
     "data": {
      "text/plain": [
       "True"
      ]
     },
     "execution_count": 24,
     "metadata": {
      "tags": []
     },
     "output_type": "execute_result"
    }
   ],
   "source": [
    "nltk.download('averaged_perceptron_tagger')"
   ]
  },
  {
   "cell_type": "code",
   "execution_count": null,
   "metadata": {
    "colab": {
     "base_uri": "https://localhost:8080/",
     "height": 477
    },
    "id": "QHjgMrsWrfnE",
    "outputId": "b4f2d170-b9a4-4187-a056-e74e4b89d569"
   },
   "outputs": [
    {
     "data": {
      "text/html": [
       "<div>\n",
       "<style scoped>\n",
       "    .dataframe tbody tr th:only-of-type {\n",
       "        vertical-align: middle;\n",
       "    }\n",
       "\n",
       "    .dataframe tbody tr th {\n",
       "        vertical-align: top;\n",
       "    }\n",
       "\n",
       "    .dataframe thead th {\n",
       "        text-align: right;\n",
       "    }\n",
       "</style>\n",
       "<table border=\"1\" class=\"dataframe\">\n",
       "  <thead>\n",
       "    <tr style=\"text-align: right;\">\n",
       "      <th></th>\n",
       "      <th>text</th>\n",
       "      <th>text_lower</th>\n",
       "      <th>text_wo_punct</th>\n",
       "      <th>text_wo_stop</th>\n",
       "      <th>text_wo_stopfreq</th>\n",
       "      <th>text_wo_stopfreqrare</th>\n",
       "      <th>text_stemmed</th>\n",
       "      <th>text_lemmatized</th>\n",
       "    </tr>\n",
       "  </thead>\n",
       "  <tbody>\n",
       "    <tr>\n",
       "      <th>0</th>\n",
       "      <td>@115712 I understand. I would like to assist y...</td>\n",
       "      <td>@115712 i understand. i would like to assist y...</td>\n",
       "      <td>115712 i understand i would like to assist you...</td>\n",
       "      <td>115712 understand would like assist would need...</td>\n",
       "      <td>115712 understand would like assist would need...</td>\n",
       "      <td>115712 understand would like assist would need...</td>\n",
       "      <td>115712 understand would like assist would need...</td>\n",
       "      <td>@115712 I understand. I would like to assist y...</td>\n",
       "    </tr>\n",
       "    <tr>\n",
       "      <th>1</th>\n",
       "      <td>@sprintcare and how do you propose we do that</td>\n",
       "      <td>@sprintcare and how do you propose we do that</td>\n",
       "      <td>sprintcare and how do you propose we do that</td>\n",
       "      <td>sprintcare propose</td>\n",
       "      <td>sprintcare propose</td>\n",
       "      <td>sprintcare propose</td>\n",
       "      <td>sprintcar propos</td>\n",
       "      <td>@sprintcare and how do you propose we do that</td>\n",
       "    </tr>\n",
       "    <tr>\n",
       "      <th>2</th>\n",
       "      <td>@sprintcare I have sent several private messag...</td>\n",
       "      <td>@sprintcare i have sent several private messag...</td>\n",
       "      <td>sprintcare i have sent several private message...</td>\n",
       "      <td>sprintcare sent several private messages one r...</td>\n",
       "      <td>sprintcare sent several private messages one r...</td>\n",
       "      <td>sprintcare sent several private messages one r...</td>\n",
       "      <td>sprintcar sent sever privat messag one respond...</td>\n",
       "      <td>@sprintcare I have send several private messag...</td>\n",
       "    </tr>\n",
       "    <tr>\n",
       "      <th>3</th>\n",
       "      <td>@115712 Please send us a Private Message so th...</td>\n",
       "      <td>@115712 please send us a private message so th...</td>\n",
       "      <td>115712 please send us a private message so tha...</td>\n",
       "      <td>115712 please send us private message assist c...</td>\n",
       "      <td>115712 send private message assist click ‘mess...</td>\n",
       "      <td>115712 send private message assist click ‘mess...</td>\n",
       "      <td>115712 send privat messag assist click messag ...</td>\n",
       "      <td>@115712 Please send u a Private Message so tha...</td>\n",
       "    </tr>\n",
       "    <tr>\n",
       "      <th>4</th>\n",
       "      <td>@sprintcare I did.</td>\n",
       "      <td>@sprintcare i did.</td>\n",
       "      <td>sprintcare i did</td>\n",
       "      <td>sprintcare</td>\n",
       "      <td>sprintcare</td>\n",
       "      <td>sprintcare</td>\n",
       "      <td>sprintcar</td>\n",
       "      <td>@sprintcare I did.</td>\n",
       "    </tr>\n",
       "  </tbody>\n",
       "</table>\n",
       "</div>"
      ],
      "text/plain": [
       "                                                text  ...                                    text_lemmatized\n",
       "0  @115712 I understand. I would like to assist y...  ...  @115712 I understand. I would like to assist y...\n",
       "1      @sprintcare and how do you propose we do that  ...      @sprintcare and how do you propose we do that\n",
       "2  @sprintcare I have sent several private messag...  ...  @sprintcare I have send several private messag...\n",
       "3  @115712 Please send us a Private Message so th...  ...  @115712 Please send u a Private Message so tha...\n",
       "4                                 @sprintcare I did.  ...                                 @sprintcare I did.\n",
       "\n",
       "[5 rows x 8 columns]"
      ]
     },
     "execution_count": 25,
     "metadata": {
      "tags": []
     },
     "output_type": "execute_result"
    }
   ],
   "source": [
    "from nltk.corpus import wordnet\n",
    "from nltk.stem import WordNetLemmatizer\n",
    "\n",
    "lemmatizer = WordNetLemmatizer()\n",
    "wordnet_map = {\"N\":wordnet.NOUN, \"V\":wordnet.VERB, \"J\":wordnet.ADJ, \"R\":wordnet.ADV}\n",
    "def lemmatize_words(text):\n",
    "    pos_tagged_text = nltk.pos_tag(text.split())\n",
    "    return \" \".join([lemmatizer.lemmatize(word, wordnet_map.get(pos[0], wordnet.NOUN)) for word, pos in pos_tagged_text])\n",
    "\n",
    "df[\"text_lemmatized\"] = df[\"text\"].apply(lambda text: lemmatize_words(text))\n",
    "df.head()"
   ]
  },
  {
   "cell_type": "code",
   "execution_count": null,
   "metadata": {
    "colab": {
     "base_uri": "https://localhost:8080/",
     "height": 1000
    },
    "id": "rHG6QPFXpTXm",
    "outputId": "076e80bf-19bc-4095-ddea-716b78d2e5aa"
   },
   "outputs": [
    {
     "data": {
      "text/html": [
       "<div>\n",
       "<style scoped>\n",
       "    .dataframe tbody tr th:only-of-type {\n",
       "        vertical-align: middle;\n",
       "    }\n",
       "\n",
       "    .dataframe tbody tr th {\n",
       "        vertical-align: top;\n",
       "    }\n",
       "\n",
       "    .dataframe thead th {\n",
       "        text-align: right;\n",
       "    }\n",
       "</style>\n",
       "<table border=\"1\" class=\"dataframe\">\n",
       "  <thead>\n",
       "    <tr style=\"text-align: right;\">\n",
       "      <th></th>\n",
       "      <th>text</th>\n",
       "      <th>text_lower</th>\n",
       "      <th>text_wo_punct</th>\n",
       "      <th>text_wo_stop</th>\n",
       "      <th>text_wo_stopfreq</th>\n",
       "      <th>text_wo_stopfreqrare</th>\n",
       "      <th>text_stemmed</th>\n",
       "      <th>text_lemmatized</th>\n",
       "    </tr>\n",
       "  </thead>\n",
       "  <tbody>\n",
       "    <tr>\n",
       "      <th>0</th>\n",
       "      <td>@115712 I understand. I would like to assist y...</td>\n",
       "      <td>@115712 i understand. i would like to assist y...</td>\n",
       "      <td>115712 i understand i would like to assist you...</td>\n",
       "      <td>115712 understand would like assist would need...</td>\n",
       "      <td>115712 understand would like assist would need...</td>\n",
       "      <td>115712 understand would like assist would need...</td>\n",
       "      <td>115712 understand would like assist would need...</td>\n",
       "      <td>@115712 I understand. I would like to assist y...</td>\n",
       "    </tr>\n",
       "    <tr>\n",
       "      <th>1</th>\n",
       "      <td>@sprintcare and how do you propose we do that</td>\n",
       "      <td>@sprintcare and how do you propose we do that</td>\n",
       "      <td>sprintcare and how do you propose we do that</td>\n",
       "      <td>sprintcare propose</td>\n",
       "      <td>sprintcare propose</td>\n",
       "      <td>sprintcare propose</td>\n",
       "      <td>sprintcar propos</td>\n",
       "      <td>@sprintcare and how do you propose we do that</td>\n",
       "    </tr>\n",
       "    <tr>\n",
       "      <th>2</th>\n",
       "      <td>@sprintcare I have sent several private messag...</td>\n",
       "      <td>@sprintcare i have sent several private messag...</td>\n",
       "      <td>sprintcare i have sent several private message...</td>\n",
       "      <td>sprintcare sent several private messages one r...</td>\n",
       "      <td>sprintcare sent several private messages one r...</td>\n",
       "      <td>sprintcare sent several private messages one r...</td>\n",
       "      <td>sprintcar sent sever privat messag one respond...</td>\n",
       "      <td>@sprintcare I have send several private messag...</td>\n",
       "    </tr>\n",
       "    <tr>\n",
       "      <th>3</th>\n",
       "      <td>@115712 Please send us a Private Message so th...</td>\n",
       "      <td>@115712 please send us a private message so th...</td>\n",
       "      <td>115712 please send us a private message so tha...</td>\n",
       "      <td>115712 please send us private message assist c...</td>\n",
       "      <td>115712 send private message assist click ‘mess...</td>\n",
       "      <td>115712 send private message assist click ‘mess...</td>\n",
       "      <td>115712 send privat messag assist click messag ...</td>\n",
       "      <td>@115712 Please send u a Private Message so tha...</td>\n",
       "    </tr>\n",
       "    <tr>\n",
       "      <th>4</th>\n",
       "      <td>@sprintcare I did.</td>\n",
       "      <td>@sprintcare i did.</td>\n",
       "      <td>sprintcare i did</td>\n",
       "      <td>sprintcare</td>\n",
       "      <td>sprintcare</td>\n",
       "      <td>sprintcare</td>\n",
       "      <td>sprintcar</td>\n",
       "      <td>@sprintcare I did.</td>\n",
       "    </tr>\n",
       "    <tr>\n",
       "      <th>5</th>\n",
       "      <td>@115712 Can you please send us a private messa...</td>\n",
       "      <td>@115712 can you please send us a private messa...</td>\n",
       "      <td>115712 can you please send us a private messag...</td>\n",
       "      <td>115712 please send us private message gain det...</td>\n",
       "      <td>115712 send private message gain details account</td>\n",
       "      <td>115712 send private message gain details account</td>\n",
       "      <td>115712 send privat messag gain detail account</td>\n",
       "      <td>@115712 Can you please send u a private messag...</td>\n",
       "    </tr>\n",
       "    <tr>\n",
       "      <th>6</th>\n",
       "      <td>@sprintcare is the worst customer service</td>\n",
       "      <td>@sprintcare is the worst customer service</td>\n",
       "      <td>sprintcare is the worst customer service</td>\n",
       "      <td>sprintcare worst customer service</td>\n",
       "      <td>sprintcare worst customer service</td>\n",
       "      <td>sprintcare worst customer service</td>\n",
       "      <td>sprintcar worst custom servic</td>\n",
       "      <td>@sprintcare be the bad customer service</td>\n",
       "    </tr>\n",
       "    <tr>\n",
       "      <th>7</th>\n",
       "      <td>@115713 This is saddening to hear. Please shoo...</td>\n",
       "      <td>@115713 this is saddening to hear. please shoo...</td>\n",
       "      <td>115713 this is saddening to hear please shoot ...</td>\n",
       "      <td>115713 saddening hear please shoot us dm look kc</td>\n",
       "      <td>115713 saddening hear shoot look kc</td>\n",
       "      <td>115713 saddening hear shoot look kc</td>\n",
       "      <td>115713 sadden hear shoot look kc</td>\n",
       "      <td>@115713 This be sadden to hear. Please shoot u...</td>\n",
       "    </tr>\n",
       "    <tr>\n",
       "      <th>8</th>\n",
       "      <td>@sprintcare You gonna magically change your co...</td>\n",
       "      <td>@sprintcare you gonna magically change your co...</td>\n",
       "      <td>sprintcare you gonna magically change your con...</td>\n",
       "      <td>sprintcare gonna magically change connectivity...</td>\n",
       "      <td>sprintcare gonna magically change connectivity...</td>\n",
       "      <td>sprintcare gonna magically change connectivity...</td>\n",
       "      <td>sprintcar gonna magic chang connect whole fami...</td>\n",
       "      <td>@sprintcare You gonna magically change your co...</td>\n",
       "    </tr>\n",
       "    <tr>\n",
       "      <th>9</th>\n",
       "      <td>@115713 We understand your concerns and we'd l...</td>\n",
       "      <td>@115713 we understand your concerns and we'd l...</td>\n",
       "      <td>115713 we understand your concerns and wed lik...</td>\n",
       "      <td>115713 understand concerns wed like please sen...</td>\n",
       "      <td>115713 understand concerns wed like send direc...</td>\n",
       "      <td>115713 understand concerns wed like send direc...</td>\n",
       "      <td>115713 understand concern wed like send direct...</td>\n",
       "      <td>@115713 We understand your concern and we'd li...</td>\n",
       "    </tr>\n",
       "    <tr>\n",
       "      <th>10</th>\n",
       "      <td>@sprintcare Since I signed up with you....Sinc...</td>\n",
       "      <td>@sprintcare since i signed up with you....sinc...</td>\n",
       "      <td>sprintcare since i signed up with yousince day 1</td>\n",
       "      <td>sprintcare since signed yousince day 1</td>\n",
       "      <td>sprintcare since signed yousince day 1</td>\n",
       "      <td>sprintcare since signed yousince day 1</td>\n",
       "      <td>sprintcar sinc sign yousinc day 1</td>\n",
       "      <td>@sprintcare Since I sign up with you....Since ...</td>\n",
       "    </tr>\n",
       "    <tr>\n",
       "      <th>11</th>\n",
       "      <td>@115713 H there! We'd definitely like to work ...</td>\n",
       "      <td>@115713 h there! we'd definitely like to work ...</td>\n",
       "      <td>115713 h there wed definitely like to work wit...</td>\n",
       "      <td>115713 h wed definitely like work long experie...</td>\n",
       "      <td>115713 h wed definitely like work long experie...</td>\n",
       "      <td>115713 h wed definitely like work long experie...</td>\n",
       "      <td>115713 h wed definit like work long experienc ...</td>\n",
       "      <td>@115713 H there! We'd definitely like to work ...</td>\n",
       "    </tr>\n",
       "    <tr>\n",
       "      <th>12</th>\n",
       "      <td>@115714 y’all lie about your “great” connectio...</td>\n",
       "      <td>@115714 y’all lie about your “great” connectio...</td>\n",
       "      <td>115714 y’all lie about your “great” connection...</td>\n",
       "      <td>115714 y’all lie “great” connection 5 bars lte...</td>\n",
       "      <td>115714 y’all lie “great” connection 5 bars lte...</td>\n",
       "      <td>115714 y’all lie “great” connection 5 bars lte...</td>\n",
       "      <td>115714 y'all lie “great” connect 5 bar lte sti...</td>\n",
       "      <td>@115714 y’all lie about your “great” connectio...</td>\n",
       "    </tr>\n",
       "    <tr>\n",
       "      <th>13</th>\n",
       "      <td>@115715 Please send me a private message so th...</td>\n",
       "      <td>@115715 please send me a private message so th...</td>\n",
       "      <td>115715 please send me a private message so tha...</td>\n",
       "      <td>115715 please send private message send link a...</td>\n",
       "      <td>115715 send private message send link access a...</td>\n",
       "      <td>115715 send private message send link access a...</td>\n",
       "      <td>115715 send privat messag send link access acc...</td>\n",
       "      <td>@115715 Please send me a private message so th...</td>\n",
       "    </tr>\n",
       "    <tr>\n",
       "      <th>14</th>\n",
       "      <td>@115714 whenever I contact customer support, t...</td>\n",
       "      <td>@115714 whenever i contact customer support, t...</td>\n",
       "      <td>115714 whenever i contact customer support the...</td>\n",
       "      <td>115714 whenever contact customer support tell ...</td>\n",
       "      <td>115714 whenever contact customer support tell ...</td>\n",
       "      <td>115714 whenever contact customer support tell ...</td>\n",
       "      <td>115714 whenev contact custom support tell shor...</td>\n",
       "      <td>@115714 whenever I contact customer support, t...</td>\n",
       "    </tr>\n",
       "    <tr>\n",
       "      <th>15</th>\n",
       "      <td>@115716 What information is incorrect? ^JK</td>\n",
       "      <td>@115716 what information is incorrect? ^jk</td>\n",
       "      <td>115716 what information is incorrect jk</td>\n",
       "      <td>115716 information incorrect jk</td>\n",
       "      <td>115716 information incorrect jk</td>\n",
       "      <td>115716 information incorrect jk</td>\n",
       "      <td>115716 inform incorrect jk</td>\n",
       "      <td>@115716 What information be incorrect? ^JK</td>\n",
       "    </tr>\n",
       "    <tr>\n",
       "      <th>16</th>\n",
       "      <td>@Ask_Spectrum Would you like me to email you a...</td>\n",
       "      <td>@ask_spectrum would you like me to email you a...</td>\n",
       "      <td>askspectrum would you like me to email you a c...</td>\n",
       "      <td>askspectrum would like email copy one since sp...</td>\n",
       "      <td>askspectrum would like email copy one since sp...</td>\n",
       "      <td>askspectrum would like email copy one since sp...</td>\n",
       "      <td>askspectrum would like email copi one sinc spe...</td>\n",
       "      <td>@Ask_Spectrum Would you like me to email you a...</td>\n",
       "    </tr>\n",
       "    <tr>\n",
       "      <th>17</th>\n",
       "      <td>@115716 Our department is part of the corporat...</td>\n",
       "      <td>@115716 our department is part of the corporat...</td>\n",
       "      <td>115716 our department is part of the corporate...</td>\n",
       "      <td>115716 department part corporate office youre ...</td>\n",
       "      <td>115716 department part corporate office youre ...</td>\n",
       "      <td>115716 department part corporate office youre ...</td>\n",
       "      <td>115716 depart part corpor offic your particula...</td>\n",
       "      <td>@115716 Our department be part of the corporat...</td>\n",
       "    </tr>\n",
       "    <tr>\n",
       "      <th>18</th>\n",
       "      <td>@Ask_Spectrum I received this from your corpor...</td>\n",
       "      <td>@ask_spectrum i received this from your corpor...</td>\n",
       "      <td>askspectrum i received this from your corporat...</td>\n",
       "      <td>askspectrum received corporate office would li...</td>\n",
       "      <td>askspectrum received corporate office would li...</td>\n",
       "      <td>askspectrum received corporate office would li...</td>\n",
       "      <td>askspectrum receiv corpor offic would like copi</td>\n",
       "      <td>@Ask_Spectrum I receive this from your corpora...</td>\n",
       "    </tr>\n",
       "    <tr>\n",
       "      <th>19</th>\n",
       "      <td>@115716 No thank you. ^JK</td>\n",
       "      <td>@115716 no thank you. ^jk</td>\n",
       "      <td>115716 no thank you jk</td>\n",
       "      <td>115716 thank jk</td>\n",
       "      <td>115716 thank jk</td>\n",
       "      <td>115716 thank jk</td>\n",
       "      <td>115716 thank jk</td>\n",
       "      <td>@115716 No thank you. ^JK</td>\n",
       "    </tr>\n",
       "    <tr>\n",
       "      <th>20</th>\n",
       "      <td>@Ask_Spectrum The correct way to do it is via ...</td>\n",
       "      <td>@ask_spectrum the correct way to do it is via ...</td>\n",
       "      <td>askspectrum the correct way to do it is via an...</td>\n",
       "      <td>askspectrum correct way via ocs account takeov...</td>\n",
       "      <td>askspectrum correct way via ocs account takeov...</td>\n",
       "      <td>askspectrum correct way via ocs account takeov...</td>\n",
       "      <td>askspectrum correct way via oc account takeov ...</td>\n",
       "      <td>@Ask_Spectrum The correct way to do it be via ...</td>\n",
       "    </tr>\n",
       "    <tr>\n",
       "      <th>21</th>\n",
       "      <td>@Ask_Spectrum That is INCORRECT information I ...</td>\n",
       "      <td>@ask_spectrum that is incorrect information i ...</td>\n",
       "      <td>askspectrum that is incorrect information i ha...</td>\n",
       "      <td>askspectrum incorrect information form front f...</td>\n",
       "      <td>askspectrum incorrect information form front f...</td>\n",
       "      <td>askspectrum incorrect information form front f...</td>\n",
       "      <td>askspectrum incorrect inform form front fax ov...</td>\n",
       "      <td>@Ask_Spectrum That be INCORRECT information I ...</td>\n",
       "    </tr>\n",
       "    <tr>\n",
       "      <th>22</th>\n",
       "      <td>@115716 The information pertaining to the acco...</td>\n",
       "      <td>@115716 the information pertaining to the acco...</td>\n",
       "      <td>115716 the information pertaining to the accou...</td>\n",
       "      <td>115716 information pertaining account assumpti...</td>\n",
       "      <td>115716 information pertaining account assumpti...</td>\n",
       "      <td>115716 information pertaining account assumpti...</td>\n",
       "      <td>115716 inform pertain account assumpt correct ...</td>\n",
       "      <td>@115716 The information pertaining to the acco...</td>\n",
       "    </tr>\n",
       "    <tr>\n",
       "      <th>23</th>\n",
       "      <td>actually that's a broken link you sent me and ...</td>\n",
       "      <td>actually that's a broken link you sent me and ...</td>\n",
       "      <td>actually thats a broken link you sent me and i...</td>\n",
       "      <td>actually thats broken link sent incorrect info...</td>\n",
       "      <td>actually thats broken link sent incorrect info...</td>\n",
       "      <td>actually thats broken link sent incorrect info...</td>\n",
       "      <td>actual that broken link sent incorrect inform ...</td>\n",
       "      <td>actually that's a broken link you send me and ...</td>\n",
       "    </tr>\n",
       "    <tr>\n",
       "      <th>24</th>\n",
       "      <td>@115717 Hello, My apologies for any frustratio...</td>\n",
       "      <td>@115717 hello, my apologies for any frustratio...</td>\n",
       "      <td>115717 hello my apologies for any frustrations...</td>\n",
       "      <td>115717 hello apologies frustrations inconvenie...</td>\n",
       "      <td>115717 hello apologies frustrations inconvenie...</td>\n",
       "      <td>115717 hello apologies frustrations inconvenie...</td>\n",
       "      <td>115717 hello apolog frustrat inconveni i'd hap...</td>\n",
       "      <td>@115717 Hello, My apology for any frustration ...</td>\n",
       "    </tr>\n",
       "  </tbody>\n",
       "</table>\n",
       "</div>"
      ],
      "text/plain": [
       "                                                 text  ...                                    text_lemmatized\n",
       "0   @115712 I understand. I would like to assist y...  ...  @115712 I understand. I would like to assist y...\n",
       "1       @sprintcare and how do you propose we do that  ...      @sprintcare and how do you propose we do that\n",
       "2   @sprintcare I have sent several private messag...  ...  @sprintcare I have send several private messag...\n",
       "3   @115712 Please send us a Private Message so th...  ...  @115712 Please send u a Private Message so tha...\n",
       "4                                  @sprintcare I did.  ...                                 @sprintcare I did.\n",
       "5   @115712 Can you please send us a private messa...  ...  @115712 Can you please send u a private messag...\n",
       "6           @sprintcare is the worst customer service  ...            @sprintcare be the bad customer service\n",
       "7   @115713 This is saddening to hear. Please shoo...  ...  @115713 This be sadden to hear. Please shoot u...\n",
       "8   @sprintcare You gonna magically change your co...  ...  @sprintcare You gonna magically change your co...\n",
       "9   @115713 We understand your concerns and we'd l...  ...  @115713 We understand your concern and we'd li...\n",
       "10  @sprintcare Since I signed up with you....Sinc...  ...  @sprintcare Since I sign up with you....Since ...\n",
       "11  @115713 H there! We'd definitely like to work ...  ...  @115713 H there! We'd definitely like to work ...\n",
       "12  @115714 y’all lie about your “great” connectio...  ...  @115714 y’all lie about your “great” connectio...\n",
       "13  @115715 Please send me a private message so th...  ...  @115715 Please send me a private message so th...\n",
       "14  @115714 whenever I contact customer support, t...  ...  @115714 whenever I contact customer support, t...\n",
       "15         @115716 What information is incorrect? ^JK  ...         @115716 What information be incorrect? ^JK\n",
       "16  @Ask_Spectrum Would you like me to email you a...  ...  @Ask_Spectrum Would you like me to email you a...\n",
       "17  @115716 Our department is part of the corporat...  ...  @115716 Our department be part of the corporat...\n",
       "18  @Ask_Spectrum I received this from your corpor...  ...  @Ask_Spectrum I receive this from your corpora...\n",
       "19                          @115716 No thank you. ^JK  ...                          @115716 No thank you. ^JK\n",
       "20  @Ask_Spectrum The correct way to do it is via ...  ...  @Ask_Spectrum The correct way to do it be via ...\n",
       "21  @Ask_Spectrum That is INCORRECT information I ...  ...  @Ask_Spectrum That be INCORRECT information I ...\n",
       "22  @115716 The information pertaining to the acco...  ...  @115716 The information pertaining to the acco...\n",
       "23  actually that's a broken link you sent me and ...  ...  actually that's a broken link you send me and ...\n",
       "24  @115717 Hello, My apologies for any frustratio...  ...  @115717 Hello, My apology for any frustration ...\n",
       "\n",
       "[25 rows x 8 columns]"
      ]
     },
     "execution_count": 26,
     "metadata": {
      "tags": []
     },
     "output_type": "execute_result"
    }
   ],
   "source": [
    "df.head(25)"
   ]
  },
  {
   "cell_type": "markdown",
   "metadata": {
    "id": "yI-NpHdhvHwA"
   },
   "source": [
    "8. Remove Emojis"
   ]
  },
  {
   "cell_type": "code",
   "execution_count": null,
   "metadata": {
    "colab": {
     "base_uri": "https://localhost:8080/",
     "height": 35
    },
    "id": "ahvSVAa0rssv",
    "outputId": "52887c77-77af-4527-a0d0-1e836dd13358"
   },
   "outputs": [
    {
     "data": {
      "application/vnd.google.colaboratory.intrinsic+json": {
       "type": "string"
      },
      "text/plain": [
       "'game is on '"
      ]
     },
     "execution_count": 27,
     "metadata": {
      "tags": []
     },
     "output_type": "execute_result"
    }
   ],
   "source": [
    "def remove_emoji(string):\n",
    "    emoji_pattern = re.compile(\"[\"\n",
    "                           u\"\\U0001F600-\\U0001F64F\"  # emoticons\n",
    "                           u\"\\U0001F300-\\U0001F5FF\"  # symbols & pictographs\n",
    "                           u\"\\U0001F680-\\U0001F6FF\"  # transport & map symbols\n",
    "                           u\"\\U0001F1E0-\\U0001F1FF\"  # flags (iOS)\n",
    "                           u\"\\U00002702-\\U000027B0\"\n",
    "                           u\"\\U000024C2-\\U0001F251\"\n",
    "                           \"]+\", flags=re.UNICODE)\n",
    "    return emoji_pattern.sub(r'', string)\n",
    "\n",
    "remove_emoji(\"game is on 🔥🔥\")"
   ]
  },
  {
   "cell_type": "markdown",
   "metadata": {
    "id": "k3gB2pFAvYXo"
   },
   "source": [
    "10. Remove URLs"
   ]
  },
  {
   "cell_type": "code",
   "execution_count": null,
   "metadata": {
    "id": "FFkSuBPysA9C"
   },
   "outputs": [],
   "source": [
    "def remove_urls(text):\n",
    "    url_pattern = re.compile(r'https?://\\S+|www\\.\\S+')\n",
    "    return url_pattern.sub(r'', text)"
   ]
  },
  {
   "cell_type": "code",
   "execution_count": null,
   "metadata": {
    "colab": {
     "base_uri": "https://localhost:8080/",
     "height": 35
    },
    "id": "OZd5ua27sDAN",
    "outputId": "7fd8dfef-e730-4513-e5ac-182497316a6c"
   },
   "outputs": [
    {
     "data": {
      "application/vnd.google.colaboratory.intrinsic+json": {
       "type": "string"
      },
      "text/plain": [
       "'Driverless AI NLP blog post on '"
      ]
     },
     "execution_count": 29,
     "metadata": {
      "tags": []
     },
     "output_type": "execute_result"
    }
   ],
   "source": [
    "text = \"Driverless AI NLP blog post on https://www.h2o.ai/blog/detecting-sarcasm-is-difficult-but-ai-may-have-an-answer/\"\n",
    "remove_urls(text)"
   ]
  },
  {
   "cell_type": "code",
   "execution_count": null,
   "metadata": {
    "colab": {
     "base_uri": "https://localhost:8080/",
     "height": 35
    },
    "id": "NHFuagMzsF14",
    "outputId": "eaddbc40-ed5b-41cd-ac00-3ca63af882a5"
   },
   "outputs": [
    {
     "data": {
      "application/vnd.google.colaboratory.intrinsic+json": {
       "type": "string"
      },
      "text/plain": [
       "'Want to know more. Checkout  for additional information'"
      ]
     },
     "execution_count": 30,
     "metadata": {
      "tags": []
     },
     "output_type": "execute_result"
    }
   ],
   "source": [
    "text = \"Want to know more. Checkout www.h2o.ai for additional information\"\n",
    "remove_urls(text)"
   ]
  },
  {
   "cell_type": "markdown",
   "metadata": {
    "id": "7skLpvHDvemf"
   },
   "source": [
    "11. Remove HTML tags"
   ]
  },
  {
   "cell_type": "code",
   "execution_count": null,
   "metadata": {
    "colab": {
     "base_uri": "https://localhost:8080/"
    },
    "id": "aIqKZmxYsI23",
    "outputId": "ca897a2d-e439-450d-862c-095aeaf621ab"
   },
   "outputs": [
    {
     "name": "stdout",
     "output_type": "stream",
     "text": [
      "\n",
      " H2O\n",
      " AutoML\n",
      " Driverless AI\n",
      "\n"
     ]
    }
   ],
   "source": [
    "def remove_html(text):\n",
    "    html_pattern = re.compile('<.*?>')\n",
    "    return html_pattern.sub(r'', text)\n",
    "\n",
    "text = \"\"\"<div>\n",
    "<h1> H2O</h1>\n",
    "<p> AutoML</p>\n",
    "<a href=\"https://www.h2o.ai/products/h2o-driverless-ai/\"> Driverless AI</a>\n",
    "</div>\"\"\"\n",
    "\n",
    "print(remove_html(text))"
   ]
  },
  {
   "cell_type": "markdown",
   "metadata": {
    "id": "0A5vDcqsvkM8"
   },
   "source": [
    "You could also practise with any other dataset of your choice and apply such practices "
   ]
  }
 ],
 "metadata": {
  "colab": {
   "collapsed_sections": [],
   "name": "Text Preprocessing on Twitter Customer Support Data.ipynb",
   "provenance": []
  },
  "kernelspec": {
   "display_name": "Python 3",
   "language": "python",
   "name": "python3"
  },
  "language_info": {
   "codemirror_mode": {
    "name": "ipython",
    "version": 3
   },
   "file_extension": ".py",
   "mimetype": "text/x-python",
   "name": "python",
   "nbconvert_exporter": "python",
   "pygments_lexer": "ipython3",
   "version": "3.8.3"
  }
 },
 "nbformat": 4,
 "nbformat_minor": 1
}
