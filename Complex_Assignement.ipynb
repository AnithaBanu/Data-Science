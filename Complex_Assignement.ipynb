{
  "nbformat": 4,
  "nbformat_minor": 0,
  "metadata": {
    "colab": {
      "name": "Complex_Assignement.ipynb",
      "provenance": []
    },
    "kernelspec": {
      "name": "python3",
      "display_name": "Python 3"
    }
  },
  "cells": [
    {
      "cell_type": "code",
      "metadata": {
        "id": "JoMbQLjK3uHZ",
        "outputId": "f6f4cf1f-483e-41b1-f0a1-c0837b4cd1f1",
        "colab": {
          "base_uri": "https://localhost:8080/"
        }
      },
      "source": [
        "#Declare a complex number and store it in a variable. \n",
        "#Check the type and print the id of the same.\n",
        "a = 10 + 20j\n",
        "print(a, type(a), id(a))"
      ],
      "execution_count": 2,
      "outputs": [
        {
          "output_type": "stream",
          "text": [
            "(10+20j) <class 'complex'> 140555842956976\n"
          ],
          "name": "stdout"
        }
      ]
    },
    {
      "cell_type": "code",
      "metadata": {
        "id": "6N6Ee4BU33jk",
        "outputId": "109fc40e-317c-4995-fa23-55baaa5d83ab",
        "colab": {
          "base_uri": "https://localhost:8080/"
        }
      },
      "source": [
        "#Arithmatic Operations on complex number\n",
        "#Take two different complex number.\n",
        "#Store them in two different variables.\n",
        "#Do below operations on them:-\n",
        "    #Find sum of both numbers\n",
        "    #Find differce between them\n",
        "    #Find the product of both numbers.\n",
        "    #Find value after dividing first num with second number\n",
        "    #Find the result of first num to the power of second number.\n",
        "def arith(a,b):\n",
        "    add = a + b\n",
        "    sub = a - b\n",
        "    mul = a * b\n",
        "    div = a / b\n",
        "    # rem = a % b\n",
        "    # quo = a // b\n",
        "    power = a ** b\n",
        "    return add, sub, mul, div, power\n",
        "\n",
        "a = complex(input(\"Enter the first number: \"))\n",
        "b = complex(input(\"Enter the second number: \"))\n",
        "print(arith(a, b))\n",
        "\n",
        "#reminder & quotient not possible to find in complex numbers\n"
      ],
      "execution_count": 10,
      "outputs": [
        {
          "output_type": "stream",
          "text": [
            "Enter the first number: 5+5j\n",
            "Enter the second number: 2+2j\n",
            "((7+7j), (3+3j), 20j, (2.5+0j), (7.238825517473248-7.458833741746015j))\n"
          ],
          "name": "stdout"
        }
      ]
    },
    {
      "cell_type": "code",
      "metadata": {
        "id": "xhkdg7LD352y"
      },
      "source": [
        "#Comparison Operation not applicable between instance of complex values\n",
        "#Object reusability concept is not applicable on complex numebr\n",
        "\n"
      ],
      "execution_count": null,
      "outputs": []
    },
    {
      "cell_type": "code",
      "metadata": {
        "id": "4lzPH2sb38KM",
        "outputId": "c0c3801c-3332-491e-ce06-99ca142e82b0",
        "colab": {
          "base_uri": "https://localhost:8080/"
        }
      },
      "source": [
        "#Equality Operator\n",
        "#Take two different complex numbers.\n",
        "#Store them in two different variables.\n",
        "#Equuate them using equality operator (==, !=)\n",
        "#Observe the output(return type should be boolean)\n",
        "\n",
        "a = 5+5j\n",
        "b = 2+6j\n",
        "print(bool(a == b))\n",
        "print(bool(a != b))\n"
      ],
      "execution_count": 12,
      "outputs": [
        {
          "output_type": "stream",
          "text": [
            "False\n",
            "True\n"
          ],
          "name": "stdout"
        }
      ]
    },
    {
      "cell_type": "code",
      "metadata": {
        "id": "EDEl19UD3_tr",
        "outputId": "17f0b64d-abe9-4a8a-f1c7-679ae14d6f14",
        "colab": {
          "base_uri": "https://localhost:8080/"
        }
      },
      "source": [
        "#Logical operators\n",
        "#Observe the output of below code\n",
        "#Cross check the output manually\n",
        "\n",
        "print(10+20j and 20+30j)    #20+30j    #----------------------------------------->Output is 20+30j\n",
        "print(0+0j and 20+30j)      #0+0j    #----------------------------------------->Output is 0j\n",
        "print(20+30j and 0+0j)      #0+0j   #----------------------------------------->Output is 0j\n",
        "print(0+0j and 0+0j)        #0+0j   #----------------------------------------->Output is 0j\n",
        "\n",
        "print(10+20j or 20+30j)     #10+20j   #----------------------------------------->Output is 10+20j\n",
        "print(0+0j or 20+30j)       #20+30j   #----------------------------------------->Output is 20+30j\n",
        "print(20+30j or 0+0j)       #20+30j  #----------------------------------------->Output is 20+30j\n",
        "print(0+0j or 0+0j)         #0+0j   #----------------------------------------->Output is 0j\n",
        "\n",
        "print(not 10+20j)           #False   #----------------------------------------->Output is False\n",
        "print(not 0+0j)             #True   #----------------------------------------->Output is True"
      ],
      "execution_count": 13,
      "outputs": [
        {
          "output_type": "stream",
          "text": [
            "(20+30j)\n",
            "0j\n",
            "0j\n",
            "0j\n",
            "(10+20j)\n",
            "(20+30j)\n",
            "(20+30j)\n",
            "0j\n",
            "False\n",
            "True\n"
          ],
          "name": "stdout"
        }
      ]
    },
    {
      "cell_type": "code",
      "metadata": {
        "id": "4ifueKbP4Br1",
        "outputId": "782da3ec-6ad8-4822-d7bc-1365347082b4",
        "colab": {
          "base_uri": "https://localhost:8080/"
        }
      },
      "source": [
        "#What is the output of expression inside print statement. Cross check before running the program.\n",
        "a = 10+20j\n",
        "b = 10+20j\n",
        "print(a is b)       #False   #True or False?\n",
        "print(a is not b)   #True   #True or False?\n"
      ],
      "execution_count": 14,
      "outputs": [
        {
          "output_type": "stream",
          "text": [
            "False\n",
            "True\n"
          ],
          "name": "stdout"
        }
      ]
    },
    {
      "cell_type": "code",
      "metadata": {
        "id": "TxMbr5jQ4Dwl",
        "outputId": "6c684495-b15f-4d31-8d18-837b26a95f7b",
        "colab": {
          "base_uri": "https://localhost:8080/"
        }
      },
      "source": [
        "#Membership operation\n",
        "#in, not in are two membership operators and it returns boolean value\n",
        "\n",
        "print('2.7' in 'Python2.7.8')                      #True\n",
        "print(10+20j in [10,10.20,10+20j,'Python'])        #True\n",
        "print(10+20j in (10,10.20,10+20j,'Python'))        #True\n",
        "print(30+40j in {1,20.30,30+40j})                  #True\n",
        "print(30+40j in {1:100, 2.3:200, 30+40j:300})      #True\n",
        "print(10 in range(20))                             #True"
      ],
      "execution_count": 15,
      "outputs": [
        {
          "output_type": "stream",
          "text": [
            "True\n",
            "True\n",
            "True\n",
            "True\n",
            "True\n",
            "True\n"
          ],
          "name": "stdout"
        }
      ]
    }
  ]
}